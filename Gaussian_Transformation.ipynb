{
  "nbformat": 4,
  "nbformat_minor": 0,
  "metadata": {
    "colab": {
      "name": "Gaussian_Transformation.ipynb",
      "provenance": [],
      "authorship_tag": "ABX9TyP7Fvodt0VNjX4T1HXcRx5c",
      "include_colab_link": true
    },
    "kernelspec": {
      "name": "python3",
      "display_name": "Python 3"
    },
    "language_info": {
      "name": "python"
    }
  },
  "cells": [
    {
      "cell_type": "markdown",
      "metadata": {
        "id": "view-in-github",
        "colab_type": "text"
      },
      "source": [
        "<a href=\"https://colab.research.google.com/github/alexyev/pennylane_projects/blob/master/Gaussian_Transformation.ipynb\" target=\"_parent\"><img src=\"https://colab.research.google.com/assets/colab-badge.svg\" alt=\"Open In Colab\"/></a>"
      ]
    },
    {
      "cell_type": "code",
      "execution_count": null,
      "metadata": {
        "id": "haT1K-i278qR"
      },
      "outputs": [],
      "source": [
        "!pip install pennylane\n",
        "import pennylane as qml\n",
        "from pennylane import numpy as np"
      ]
    },
    {
      "cell_type": "code",
      "source": [
        "dev_gaussian = qml.device('default.gaussian', wires=1)\n",
        "\n",
        "@qml.qnode(dev_gaussian)\n",
        "def mean_photon_gaussian(mag_alpha, phase_alpha, phi):\n",
        "  qml.Displacement(mag_alpha, phase_alpha, wires=0)\n",
        "  qml.Rotation(phi, wires=0)\n",
        "  return qml.expval(qml.NumberOperator(0))"
      ],
      "metadata": {
        "id": "p_4llcpe9n6I"
      },
      "execution_count": 3,
      "outputs": []
    },
    {
      "cell_type": "code",
      "source": [
        "def cost(params):\n",
        "  return(mean_photon_gaussian(params[0], params[1], params[2]) - 1.0 ) ** 2"
      ],
      "metadata": {
        "id": "xTea0x9b-jH9"
      },
      "execution_count": 4,
      "outputs": []
    },
    {
      "cell_type": "code",
      "source": [
        "init_params = np.array([0.015, 0.02, 0.005], requires_grad=True)\n",
        "print(cost(init_params))"
      ],
      "metadata": {
        "colab": {
          "base_uri": "https://localhost:8080/"
        },
        "id": "iO_MoAzc_Ak5",
        "outputId": "34558c7f-a3ef-4c45-f9e2-106c6bf761bc"
      },
      "execution_count": 5,
      "outputs": [
        {
          "output_type": "stream",
          "name": "stdout",
          "text": [
            "0.9995500506249999\n"
          ]
        }
      ]
    },
    {
      "cell_type": "code",
      "source": [
        "opt = qml.GradientDescentOptimizer(stepsize=0.1)\n",
        "\n",
        "steps = 20\n",
        "params = init_params\n",
        "\n",
        "for i in range(steps):\n",
        "  params = opt.step(cost, params)\n",
        "\n",
        "  print('Cost after step {: 5d}: {:8f}'.format(i + 1, cost(params)))\n",
        "\n",
        "print('Optimized mag_alpha: {: 8f}'.format(params[0]))\n",
        "print('Optimized phase_alpha: {: 8f}'.format(params[1]))\n",
        "print('Optimized phi: {: 8f}'.format(params[2]))"
      ],
      "metadata": {
        "colab": {
          "base_uri": "https://localhost:8080/"
        },
        "id": "jRdd8MSU_Qmb",
        "outputId": "e5b73d20-fb95-4c01-ceb1-edd01c9f8533"
      },
      "execution_count": 6,
      "outputs": [
        {
          "output_type": "stream",
          "name": "stdout",
          "text": [
            "Cost after step     1: 0.999118\n",
            "Cost after step     2: 0.998273\n",
            "Cost after step     3: 0.996618\n",
            "Cost after step     4: 0.993382\n",
            "Cost after step     5: 0.987074\n",
            "Cost after step     6: 0.974837\n",
            "Cost after step     7: 0.951332\n",
            "Cost after step     8: 0.907043\n",
            "Cost after step     9: 0.826649\n",
            "Cost after step    10: 0.690812\n",
            "Cost after step    11: 0.490303\n",
            "Cost after step    12: 0.258845\n",
            "Cost after step    13: 0.083224\n",
            "Cost after step    14: 0.013179\n",
            "Cost after step    15: 0.001001\n",
            "Cost after step    16: 0.000049\n",
            "Cost after step    17: 0.000002\n",
            "Cost after step    18: 0.000000\n",
            "Cost after step    19: 0.000000\n",
            "Cost after step    20: 0.000000\n",
            "Optimized mag_alpha:  0.999994\n",
            "Optimized phase_alpha:  0.020000\n",
            "Optimized phi:  0.005000\n"
          ]
        }
      ]
    }
  ]
}