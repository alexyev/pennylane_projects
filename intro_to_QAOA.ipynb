{
 "cells": [
  {
   "cell_type": "code",
   "execution_count": 1,
   "id": "b857707e-8ae6-4da7-974e-a8af8d3666d2",
   "metadata": {},
   "outputs": [
    {
     "name": "stdout",
     "output_type": "stream",
     "text": [
      "  (1) [X0]\n",
      "+ (1) [Z1]\n",
      "+ (0.5) [X0 X1]\n"
     ]
    }
   ],
   "source": [
    "import pennylane as qml\n",
    "\n",
    "H = qml.Hamiltonian(\n",
    "    [1, 1, 0.5],\n",
    "    [qml.PauliX(0), qml.PauliZ(1), qml.PauliX(0) @ qml.PauliX(1)])\n",
    "\n",
    "print(H)"
   ]
  },
  {
   "cell_type": "code",
   "execution_count": 2,
   "id": "4f42da4c-b6c7-4dcf-9105-1a709661ce53",
   "metadata": {},
   "outputs": [
    {
     "name": "stdout",
     "output_type": "stream",
     "text": [
      " 0: ──H──────RZ(1)──H──H──╭RZ(0.5)──H──H──────RZ(1)──H──H──╭RZ(0.5)──H──┤ ⟨Z⟩ \n",
      " 1: ──RZ(1)──H────────────╰RZ(0.5)──H──RZ(1)──H────────────╰RZ(0.5)──H──┤ ⟨Z⟩ \n",
      "\n"
     ]
    }
   ],
   "source": [
    "dev = qml.device('default.qubit', wires=2)\n",
    "\n",
    "t = 1\n",
    "n = 2\n",
    "\n",
    "@qml.qnode(dev)\n",
    "def circuit():\n",
    "    qml.ApproxTimeEvolution(H, t, n)\n",
    "    return [qml.expval(qml.PauliZ(i)) for i in range(2)]\n",
    "\n",
    "print(qml.draw(circuit, expansion_strategy='device')())"
   ]
  },
  {
   "cell_type": "code",
   "execution_count": 3,
   "id": "45dc20c0-103e-43d5-9bc7-668423ea2522",
   "metadata": {},
   "outputs": [
    {
     "name": "stdout",
     "output_type": "stream",
     "text": [
      " 0: ──RX(0.5)──╭C──┤ ⟨Z⟩ \n",
      " 1: ──H────────╰X──┤ ⟨Z⟩ \n",
      "\n"
     ]
    }
   ],
   "source": [
    "def circ(theta):\n",
    "    qml.RX(theta, wires=0)\n",
    "    qml.Hadamard(wires=1)\n",
    "    qml.CNOT(wires=[0, 1])\n",
    "    \n",
    "@qml.qnode(dev)\n",
    "def circuit(param):\n",
    "    circ(param)\n",
    "    return [qml.expval(qml.PauliZ(i)) for i in range(2)]\n",
    "\n",
    "print(qml.draw(circuit)(0.5))\n",
    "    "
   ]
  },
  {
   "cell_type": "code",
   "execution_count": 4,
   "id": "39390b62-66bc-4a3e-83f4-ebd3ffa64dac",
   "metadata": {},
   "outputs": [
    {
     "name": "stdout",
     "output_type": "stream",
     "text": [
      " 0: ──RX(0.3)──╭C──RX(0.4)──╭C──RX(0.5)──╭C──┤ ⟨Z⟩ \n",
      " 1: ──H────────╰X──H────────╰X──H────────╰X──┤ ⟨Z⟩ \n",
      "\n"
     ]
    }
   ],
   "source": [
    "@qml.qnode(dev)\n",
    "def circuit(params, **kwargs):\n",
    "    qml.layer(circ, 3, params)\n",
    "    return [qml.expval(qml.PauliZ(i)) for i in range(2)]\n",
    "\n",
    "print(qml.draw(circuit)([0.3, 0.4, 0.5]))"
   ]
  },
  {
   "cell_type": "code",
   "execution_count": 5,
   "id": "06136f04-fbb4-4d0d-8dc8-d6fc4a47c386",
   "metadata": {},
   "outputs": [],
   "source": [
    "from pennylane import qaoa\n",
    "from pennylane import numpy as np\n",
    "from matplotlib import pyplot as plt\n",
    "import networkx as nx"
   ]
  },
  {
   "cell_type": "code",
   "execution_count": 6,
   "id": "a42af016-4b23-4c9e-844c-31e0e1420503",
   "metadata": {},
   "outputs": [
    {
     "data": {
      "image/png": "[encoded data removed]",
      "text/plain": [
       "<Figure size 432x288 with 1 Axes>"
      ]
     },
     "metadata": {},
     "output_type": "display_data"
    }
   ],
   "source": [
    "edges = [(0, 1), (1, 2), (2, 0), (2, 3)]\n",
    "graph = nx.Graph(edges)\n",
    "\n",
    "nx.draw(graph, with_labels=True)\n",
    "plt.show()"
   ]
  },
  {
   "cell_type": "code",
   "execution_count": 7,
   "id": "44c919b5-69ca-4224-bb52-ac4cdcace4b7",
   "metadata": {},
   "outputs": [
    {
     "name": "stdout",
     "output_type": "stream",
     "text": [
      "Cost Hamiltonian:   (-0.25) [Z3]\n",
      "+ (0.5) [Z0]\n",
      "+ (0.5) [Z1]\n",
      "+ (1.25) [Z2]\n",
      "+ (0.75) [Z0 Z1]\n",
      "+ (0.75) [Z0 Z2]\n",
      "+ (0.75) [Z1 Z2]\n",
      "+ (0.75) [Z2 Z3]\n",
      "Mixer Hamiltonian:   (1) [X0]\n",
      "+ (1) [X1]\n",
      "+ (1) [X2]\n",
      "+ (1) [X3]\n"
     ]
    }
   ],
   "source": [
    "cost_h, mixer_h = qaoa.min_vertex_cover(graph, constrained=False)\n",
    "\n",
    "print('Cost Hamiltonian:', cost_h)\n",
    "print('Mixer Hamiltonian:', mixer_h)"
   ]
  },
  {
   "cell_type": "code",
   "execution_count": 8,
   "id": "79bd6788-de26-447a-be8d-41812af846ea",
   "metadata": {},
   "outputs": [],
   "source": [
    "def qaoa_layer(gamma, alpha):\n",
    "    qaoa.cost_layer(gamma, cost_h)\n",
    "    qaoa.mixer_layer(alpha, mixer_h)"
   ]
  },
  {
   "cell_type": "code",
   "execution_count": 13,
   "id": "683a0584-ebbf-466b-9316-67e5ee6ce2f3",
   "metadata": {},
   "outputs": [],
   "source": [
    "wires = range(4)\n",
    "depth = 2\n",
    "\n",
    "def circuit(params, **kwargs):\n",
    "    for w in wires:\n",
    "        qml.Hadamard(wires=w)\n",
    "    qml.layer(qaoa_layer, depth, params[0], params[1])\n"
   ]
  },
  {
   "cell_type": "code",
   "execution_count": 14,
   "id": "8a9e3cb7-89e1-4474-98ef-924370fe2c74",
   "metadata": {},
   "outputs": [],
   "source": [
    "dev = qml.device(\"qulacs.simulator\", wires=wires)\n",
    "\n",
    "@qml.qnode(dev)\n",
    "def cost_function(params):\n",
    "    circuit(params)\n",
    "    return qml.expval(cost_h)"
   ]
  },
  {
   "cell_type": "code",
   "execution_count": 15,
   "id": "8d6ccb79-1c88-4e21-b91a-95859cdd34a7",
   "metadata": {},
   "outputs": [],
   "source": [
    "optimizer = qml.GradientDescentOptimizer()\n",
    "steps = 70\n",
    "params = np.array([[0.5, 0.5], [0.5, 0.5]], requires_grad=True)"
   ]
  },
  {
   "cell_type": "code",
   "execution_count": 16,
   "id": "2d0108e8-0679-4a48-a1d8-218b0f533899",
   "metadata": {},
   "outputs": [
    {
     "name": "stdout",
     "output_type": "stream",
     "text": [
      "Opitmal Params\n",
      "[[0.59806352 0.94198485]\n",
      " [0.52797281 0.85552845]]\n"
     ]
    }
   ],
   "source": [
    "for i in range(steps):\n",
    "    params = optimizer.step(cost_function, params)\n",
    "    \n",
    "print('Opitmal Params')\n",
    "print(params)"
   ]
  },
  {
   "cell_type": "code",
   "execution_count": 17,
   "id": "da22885d-46dc-4a1a-9801-009737897272",
   "metadata": {},
   "outputs": [],
   "source": [
    "@qml.qnode(dev)\n",
    "def probability_circuit(gamma, alpha):\n",
    "    circuit([gamma, alpha])\n",
    "    return qml.probs(wires=wires)\n",
    "\n",
    "probs = probability_circuit(params[0], params[1])"
   ]
  },
  {
   "cell_type": "code",
   "execution_count": 18,
   "id": "65e6462c-7439-4bd5-b9c9-067c8e3c8fcf",
   "metadata": {},
   "outputs": [
    {
     "data": {
      "image/png": "[encoded data removed]",
      "text/plain": [
       "<Figure size 576x396 with 1 Axes>"
      ]
     },
     "metadata": {},
     "output_type": "display_data"
    }
   ],
   "source": [
    "plt.style.use('seaborn')\n",
    "plt.bar(range(2 ** len(wires)), probs)\n",
    "plt.show()"
   ]
  },
  {
   "cell_type": "code",
   "execution_count": 20,
   "id": "29481691-747d-40b3-85d1-ab5f3b0b228c",
   "metadata": {},
   "outputs": [],
   "source": [
    "# customizing qaoa to favour the state |1010>.\n",
    "\n",
    "reward_h = qaoa.edge_driver(nx.Graph([(0, 2)]),['11'])"
   ]
  },
  {
   "cell_type": "code",
   "execution_count": 21,
   "id": "98ec43f4-8b40-4f4c-a940-2a81c971010e",
   "metadata": {},
   "outputs": [],
   "source": [
    "new_cost_h = cost_h + 2 * reward_h"
   ]
  },
  {
   "cell_type": "code",
   "execution_count": 22,
   "id": "60cab72b-66e0-42f3-bb81-08a0a7f231a2",
   "metadata": {},
   "outputs": [
    {
     "name": "stdout",
     "output_type": "stream",
     "text": [
      "Optimal Params\n",
      "[[0.45959941 0.96095271]\n",
      " [0.27029962 0.78042396]]\n"
     ]
    }
   ],
   "source": [
    "def qaoa_layer(gamma, alpha):\n",
    "    qaoa.cost_layer(gamma, new_cost_h)\n",
    "    qaoa.mixer_layer(alpha, mixer_h)\n",
    "    \n",
    "def circuit(params, **kwargs):\n",
    "    for w in wires:\n",
    "        qml.Hadamard(wires=w)\n",
    "    qml.layer(qaoa_layer, depth, params[0], params[1])\n",
    "    \n",
    "@qml.qnode(dev)\n",
    "def cost_function(params):\n",
    "    circuit(params)\n",
    "    return qml.expval(new_cost_h)\n",
    "\n",
    "params = np.array([[0.5, 0.5], [0.5, 0.5]], requires_grad = True)\n",
    "\n",
    "for i in range(steps):\n",
    "    params = optimizer.step(cost_function, params)\n",
    "    \n",
    "print('Optimal Params')\n",
    "print(params)"
   ]
  },
  {
   "cell_type": "code",
   "execution_count": 23,
   "id": "6a4cf08a-6414-4b74-ad3c-5c6186bc04d7",
   "metadata": {},
   "outputs": [
    {
     "data": {
      "image/png": "[encoded data removed]",
      "text/plain": [
       "<Figure size 576x396 with 1 Axes>"
      ]
     },
     "metadata": {},
     "output_type": "display_data"
    }
   ],
   "source": [
    "@qml.qnode(dev)\n",
    "def probability_circuit(gamma, alpha):\n",
    "    circuit([gamma, alpha])\n",
    "    return qml.probs(wires=wires)\n",
    "\n",
    "probs = probability_circuit(params[0], params[1])\n",
    "\n",
    "plt.style.use('seaborn')\n",
    "plt.bar(range(2 ** len(wires)), probs)\n",
    "plt.show()"
   ]
  },
  {
   "cell_type": "code",
   "execution_count": null,
   "id": "fc5322a3-5653-46f8-baef-983dc868c5b1",
   "metadata": {},
   "outputs": [],
   "source": []
  }
 ],
 "metadata": {
  "kernelspec": {
   "display_name": "Python 3",
   "language": "python",
   "name": "python3"
  },
  "language_info": {
   "codemirror_mode": {
    "name": "ipython",
    "version": 3
   },
   "file_extension": ".py",
   "mimetype": "text/x-python",
   "name": "python",
   "nbconvert_exporter": "python",
   "pygments_lexer": "ipython3",
   "version": "3.8.8"
  }
 },
 "nbformat": 4,
 "nbformat_minor": 5
}
