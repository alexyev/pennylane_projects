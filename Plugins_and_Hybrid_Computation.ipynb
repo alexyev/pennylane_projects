{
  "nbformat": 4,
  "nbformat_minor": 0,
  "metadata": {
    "colab": {
      "name": "Plugins_and_Hybrid_Computation.ipynb",
      "provenance": [],
      "authorship_tag": "ABX9TyOvDZwV7C2JSnMeZFSBZCPC",
      "include_colab_link": true
    },
    "kernelspec": {
      "name": "python3",
      "display_name": "Python 3"
    },
    "language_info": {
      "name": "python"
    }
  },
  "cells": [
    {
      "cell_type": "markdown",
      "metadata": {
        "id": "view-in-github",
        "colab_type": "text"
      },
      "source": [
        "<a href=\"https://colab.research.google.com/github/alexyev/pennylane_projects/blob/master/Plugins_and_Hybrid_Computation.ipynb\" target=\"_parent\"><img src=\"https://colab.research.google.com/assets/colab-badge.svg\" alt=\"Open In Colab\"/></a>"
      ]
    },
    {
      "cell_type": "code",
      "execution_count": 16,
      "metadata": {
        "id": "dFIjU1yMVeYU",
        "colab": {
          "base_uri": "https://localhost:8080/"
        },
        "outputId": "009a459c-a2a1-41a1-b786-02574c43d82c"
      },
      "outputs": [
        {
          "output_type": "stream",
          "name": "stdout",
          "text": [
            "Requirement already satisfied: pennylane in /usr/local/lib/python3.7/dist-packages (0.20.0)\n",
            "Requirement already satisfied: semantic-version==2.6 in /usr/local/lib/python3.7/dist-packages (from pennylane) (2.6.0)\n",
            "Requirement already satisfied: autoray in /usr/local/lib/python3.7/dist-packages (from pennylane) (0.2.5)\n",
            "Requirement already satisfied: numpy in /usr/local/lib/python3.7/dist-packages (from pennylane) (1.19.5)\n",
            "Requirement already satisfied: autograd in /usr/local/lib/python3.7/dist-packages (from pennylane) (1.3)\n",
            "Requirement already satisfied: toml in /usr/local/lib/python3.7/dist-packages (from pennylane) (0.10.2)\n",
            "Requirement already satisfied: cachetools in /usr/local/lib/python3.7/dist-packages (from pennylane) (4.2.4)\n",
            "Requirement already satisfied: scipy in /usr/local/lib/python3.7/dist-packages (from pennylane) (1.4.1)\n",
            "Requirement already satisfied: pennylane-lightning>=0.18 in /usr/local/lib/python3.7/dist-packages (from pennylane) (0.20.1)\n",
            "Requirement already satisfied: appdirs in /usr/local/lib/python3.7/dist-packages (from pennylane) (1.4.4)\n",
            "Requirement already satisfied: networkx in /usr/local/lib/python3.7/dist-packages (from pennylane) (2.6.3)\n",
            "Requirement already satisfied: ninja in /usr/local/lib/python3.7/dist-packages (from pennylane-lightning>=0.18->pennylane) (1.10.2.3)\n",
            "Requirement already satisfied: future>=0.15.2 in /usr/local/lib/python3.7/dist-packages (from autograd->pennylane) (0.16.0)\n",
            "Requirement already satisfied: pennylane-sf in /usr/local/lib/python3.7/dist-packages (0.20.0)\n",
            "Requirement already satisfied: strawberryfields>=0.20 in /usr/local/lib/python3.7/dist-packages (from pennylane-sf) (0.21.0)\n",
            "Requirement already satisfied: pennylane>=0.19 in /usr/local/lib/python3.7/dist-packages (from pennylane-sf) (0.20.0)\n",
            "Requirement already satisfied: autograd in /usr/local/lib/python3.7/dist-packages (from pennylane>=0.19->pennylane-sf) (1.3)\n",
            "Requirement already satisfied: toml in /usr/local/lib/python3.7/dist-packages (from pennylane>=0.19->pennylane-sf) (0.10.2)\n",
            "Requirement already satisfied: semantic-version==2.6 in /usr/local/lib/python3.7/dist-packages (from pennylane>=0.19->pennylane-sf) (2.6.0)\n",
            "Requirement already satisfied: cachetools in /usr/local/lib/python3.7/dist-packages (from pennylane>=0.19->pennylane-sf) (4.2.4)\n",
            "Requirement already satisfied: numpy in /usr/local/lib/python3.7/dist-packages (from pennylane>=0.19->pennylane-sf) (1.19.5)\n",
            "Requirement already satisfied: scipy in /usr/local/lib/python3.7/dist-packages (from pennylane>=0.19->pennylane-sf) (1.4.1)\n",
            "Requirement already satisfied: networkx in /usr/local/lib/python3.7/dist-packages (from pennylane>=0.19->pennylane-sf) (2.6.3)\n",
            "Requirement already satisfied: appdirs in /usr/local/lib/python3.7/dist-packages (from pennylane>=0.19->pennylane-sf) (1.4.4)\n",
            "Requirement already satisfied: pennylane-lightning>=0.18 in /usr/local/lib/python3.7/dist-packages (from pennylane>=0.19->pennylane-sf) (0.20.1)\n",
            "Requirement already satisfied: autoray in /usr/local/lib/python3.7/dist-packages (from pennylane>=0.19->pennylane-sf) (0.2.5)\n",
            "Requirement already satisfied: ninja in /usr/local/lib/python3.7/dist-packages (from pennylane-lightning>=0.18->pennylane>=0.19->pennylane-sf) (1.10.2.3)\n",
            "Requirement already satisfied: xanadu-cloud-client>=0.1.1 in /usr/local/lib/python3.7/dist-packages (from strawberryfields>=0.20->pennylane-sf) (0.1.1)\n",
            "Requirement already satisfied: requests>=2.22.0 in /usr/local/lib/python3.7/dist-packages (from strawberryfields>=0.20->pennylane-sf) (2.23.0)\n",
            "Requirement already satisfied: urllib3>=1.25.3 in /usr/local/lib/python3.7/dist-packages (from strawberryfields>=0.20->pennylane-sf) (1.25.11)\n",
            "Requirement already satisfied: sympy>=1.5 in /usr/local/lib/python3.7/dist-packages (from strawberryfields>=0.20->pennylane-sf) (1.7.1)\n",
            "Requirement already satisfied: thewalrus>=0.18.0 in /usr/local/lib/python3.7/dist-packages (from strawberryfields>=0.20->pennylane-sf) (0.18.0)\n",
            "Requirement already satisfied: quantum-blackbird>=0.3.0 in /usr/local/lib/python3.7/dist-packages (from strawberryfields>=0.20->pennylane-sf) (0.4.0)\n",
            "Requirement already satisfied: numba in /usr/local/lib/python3.7/dist-packages (from strawberryfields>=0.20->pennylane-sf) (0.51.2)\n",
            "Requirement already satisfied: python-dateutil>=2.8.0 in /usr/local/lib/python3.7/dist-packages (from strawberryfields>=0.20->pennylane-sf) (2.8.2)\n",
            "Requirement already satisfied: quantum-xir>=0.1.1 in /usr/local/lib/python3.7/dist-packages (from strawberryfields>=0.20->pennylane-sf) (0.1.1)\n",
            "Requirement already satisfied: six>=1.5 in /usr/local/lib/python3.7/dist-packages (from python-dateutil>=2.8.0->strawberryfields>=0.20->pennylane-sf) (1.15.0)\n",
            "Requirement already satisfied: antlr4-python3-runtime==4.8 in /usr/local/lib/python3.7/dist-packages (from quantum-blackbird>=0.3.0->strawberryfields>=0.20->pennylane-sf) (4.8)\n",
            "Requirement already satisfied: lark-parser>=0.11.0 in /usr/local/lib/python3.7/dist-packages (from quantum-xir>=0.1.1->strawberryfields>=0.20->pennylane-sf) (0.12.0)\n",
            "Requirement already satisfied: idna<3,>=2.5 in /usr/local/lib/python3.7/dist-packages (from requests>=2.22.0->strawberryfields>=0.20->pennylane-sf) (2.10)\n",
            "Requirement already satisfied: certifi>=2017.4.17 in /usr/local/lib/python3.7/dist-packages (from requests>=2.22.0->strawberryfields>=0.20->pennylane-sf) (2021.10.8)\n",
            "Requirement already satisfied: chardet<4,>=3.0.2 in /usr/local/lib/python3.7/dist-packages (from requests>=2.22.0->strawberryfields>=0.20->pennylane-sf) (3.0.4)\n",
            "Requirement already satisfied: mpmath>=0.19 in /usr/local/lib/python3.7/dist-packages (from sympy>=1.5->strawberryfields>=0.20->pennylane-sf) (1.2.1)\n",
            "Requirement already satisfied: dask[delayed] in /usr/local/lib/python3.7/dist-packages (from thewalrus>=0.18.0->strawberryfields>=0.20->pennylane-sf) (2.12.0)\n",
            "Requirement already satisfied: setuptools in /usr/local/lib/python3.7/dist-packages (from numba->strawberryfields>=0.20->pennylane-sf) (57.4.0)\n",
            "Requirement already satisfied: llvmlite<0.35,>=0.34.0.dev0 in /usr/local/lib/python3.7/dist-packages (from numba->strawberryfields>=0.20->pennylane-sf) (0.34.0)\n",
            "Requirement already satisfied: fire in /usr/local/lib/python3.7/dist-packages (from xanadu-cloud-client>=0.1.1->strawberryfields>=0.20->pennylane-sf) (0.4.0)\n",
            "Requirement already satisfied: pydantic[dotenv] in /usr/local/lib/python3.7/dist-packages (from xanadu-cloud-client>=0.1.1->strawberryfields>=0.20->pennylane-sf) (1.8.2)\n",
            "Requirement already satisfied: future>=0.15.2 in /usr/local/lib/python3.7/dist-packages (from autograd->pennylane>=0.19->pennylane-sf) (0.16.0)\n",
            "Requirement already satisfied: toolz>=0.7.3 in /usr/local/lib/python3.7/dist-packages (from dask[delayed]->thewalrus>=0.18.0->strawberryfields>=0.20->pennylane-sf) (0.11.2)\n",
            "Requirement already satisfied: cloudpickle>=0.2.1 in /usr/local/lib/python3.7/dist-packages (from dask[delayed]->thewalrus>=0.18.0->strawberryfields>=0.20->pennylane-sf) (1.3.0)\n",
            "Requirement already satisfied: termcolor in /usr/local/lib/python3.7/dist-packages (from fire->xanadu-cloud-client>=0.1.1->strawberryfields>=0.20->pennylane-sf) (1.1.0)\n",
            "Requirement already satisfied: typing-extensions>=3.7.4.3 in /usr/local/lib/python3.7/dist-packages (from pydantic[dotenv]->xanadu-cloud-client>=0.1.1->strawberryfields>=0.20->pennylane-sf) (3.10.0.2)\n",
            "Requirement already satisfied: python-dotenv>=0.10.4 in /usr/local/lib/python3.7/dist-packages (from pydantic[dotenv]->xanadu-cloud-client>=0.1.1->strawberryfields>=0.20->pennylane-sf) (0.19.2)\n"
          ]
        }
      ],
      "source": [
        "!pip install pennylane\n",
        "!pip install pennylane-sf\n",
        "import pennylane as qml\n",
        "from pennylane import numpy as np"
      ]
    },
    {
      "cell_type": "code",
      "source": [
        "dev_fock = qml.device('strawberryfields.fock', wires=2, cutoff_dim=2)"
      ],
      "metadata": {
        "id": "8K29PHYYXSdf"
      },
      "execution_count": null,
      "outputs": []
    },
    {
      "cell_type": "code",
      "source": [
        "@qml.qnode(dev_fock, diff_method='parameter-shift')\n",
        "def photon_redirection(params):\n",
        "  qml.FockState(1, wires=0)\n",
        "  qml.Beamsplitter(params[0], params[1], wires=[0, 1])\n",
        "  return qml.expval(qml.NumberOperator(1))"
      ],
      "metadata": {
        "id": "eEObsScsXli9"
      },
      "execution_count": null,
      "outputs": []
    },
    {
      "cell_type": "code",
      "source": [
        "#since this is a maximization problem, we will need to set the cost function to minimize the negative of our circuit output\n",
        "\n",
        "def cost(params):\n",
        "  return -photon_redirection(params)"
      ],
      "metadata": {
        "id": "rvlhhzqyYneC"
      },
      "execution_count": null,
      "outputs": []
    },
    {
      "cell_type": "code",
      "source": [
        "init_params = np.array([0.01, 0.01], requires_grad=True)\n",
        "print(cost(init_params))"
      ],
      "metadata": {
        "colab": {
          "base_uri": "https://localhost:8080/"
        },
        "id": "mB95H6JWZIHF",
        "outputId": "3de5a965-218f-42fd-ad50-a1b5af0b054e"
      },
      "execution_count": null,
      "outputs": [
        {
          "output_type": "stream",
          "name": "stdout",
          "text": [
            "-9.999666671111081e-05\n"
          ]
        }
      ]
    },
    {
      "cell_type": "code",
      "source": [
        "opt = qml.GradientDescentOptimizer(stepsize=0.4)\n",
        "steps = 100\n",
        "params = init_params"
      ],
      "metadata": {
        "id": "JW-aOOGRZR-v"
      },
      "execution_count": null,
      "outputs": []
    },
    {
      "cell_type": "code",
      "source": [
        "for i in range(steps):\n",
        "  params = opt.step(cost, params)\n",
        "\n",
        "  if (i + 1) % 5 == 0:\n",
        "    print('Cost after step {: 5d}: {: .7f}'.format(i + 1, cost(params)))\n",
        "\n",
        "print('Optimized rotation angles: {}'.format(params))"
      ],
      "metadata": {
        "colab": {
          "base_uri": "https://localhost:8080/"
        },
        "id": "kLk1ys_WZ2f_",
        "outputId": "9a855229-eff2-408b-80a7-1bf752162f71"
      },
      "execution_count": null,
      "outputs": [
        {
          "output_type": "stream",
          "name": "stdout",
          "text": [
            "Cost after step     5: -0.0349558\n",
            "Cost after step    10: -0.9969017\n",
            "Cost after step    15: -1.0000000\n",
            "Cost after step    20: -1.0000000\n",
            "Cost after step    25: -1.0000000\n",
            "Cost after step    30: -1.0000000\n",
            "Cost after step    35: -1.0000000\n",
            "Cost after step    40: -1.0000000\n",
            "Cost after step    45: -1.0000000\n",
            "Cost after step    50: -1.0000000\n",
            "Cost after step    55: -1.0000000\n",
            "Cost after step    60: -1.0000000\n",
            "Cost after step    65: -1.0000000\n",
            "Cost after step    70: -1.0000000\n",
            "Cost after step    75: -1.0000000\n",
            "Cost after step    80: -1.0000000\n",
            "Cost after step    85: -1.0000000\n",
            "Cost after step    90: -1.0000000\n",
            "Cost after step    95: -1.0000000\n",
            "Cost after step   100: -1.0000000\n",
            "Optimized rotation angles: [1.57079633 0.01      ]\n"
          ]
        }
      ]
    },
    {
      "cell_type": "code",
      "source": [
        "dev_qubit = qml.device('default.qubit', wires=1)\n",
        "dev_fock = qml.device('strawberryfields.fock', wires=2, cutoff_dim=10)"
      ],
      "metadata": {
        "id": "3pgC3MTkaT42"
      },
      "execution_count": 17,
      "outputs": []
    },
    {
      "cell_type": "code",
      "source": [
        "@qml.qnode(dev_qubit)\n",
        "def qubit_rotation(phi1, phi2):\n",
        "  qml.RX(phi1, wires=0)\n",
        "  qml.RY(phi2, wires=0)\n",
        "  return qml.expval(qml.PauliZ(0))"
      ],
      "metadata": {
        "id": "8thHML0Dii0C"
      },
      "execution_count": 18,
      "outputs": []
    },
    {
      "cell_type": "code",
      "source": [
        "@qml.qnode(dev_fock, diff_method='parameter-shift')\n",
        "def photon_redirection(params):\n",
        "  qml.FockState(1, wires=0)\n",
        "  qml.Beamsplitter(params[0], params[1], wires=[0, 1])\n",
        "  return qml.expval(qml.NumberOperator(1))"
      ],
      "metadata": {
        "id": "nIzBza4MjNRJ"
      },
      "execution_count": 19,
      "outputs": []
    },
    {
      "cell_type": "code",
      "source": [
        "def squared_difference(x, y):\n",
        "  return np.abs(x - y) ** 2"
      ],
      "metadata": {
        "id": "DAi_iNo4jvsD"
      },
      "execution_count": 20,
      "outputs": []
    },
    {
      "cell_type": "code",
      "source": [
        "def cost(params, phi1=0.5, phi2=0.1):\n",
        "  qubit_result = qubit_rotation(phi1, phi2)\n",
        "  photon_result = photon_redirection(params)\n",
        "  return squared_difference(qubit_result, photon_result)"
      ],
      "metadata": {
        "id": "3niu7ycHj3k2"
      },
      "execution_count": 21,
      "outputs": []
    },
    {
      "cell_type": "code",
      "source": [
        "opt = qml.GradientDescentOptimizer(stepsize=0.4)\n",
        "steps = 100\n",
        "params = np.array([0.01, 0.01], requires_grad=True)\n",
        "\n",
        "for i in range(steps):\n",
        "  params = opt.step(cost, params)\n",
        "\n",
        "  if (i + 1) % 5 == 0:\n",
        "    print('Cost after step {:5d}: {: .7f}'.format(i + 1, cost(params)))\n",
        "\n",
        "print('Optimized rotation angles: {}'.format(params))\n"
      ],
      "metadata": {
        "colab": {
          "base_uri": "https://localhost:8080/"
        },
        "id": "FNz11IjLlMlv",
        "outputId": "c9cad706-a0ab-46f1-d015-142b5a8a0093"
      },
      "execution_count": 29,
      "outputs": [
        {
          "output_type": "stream",
          "name": "stdout",
          "text": [
            "Cost after step     5:  0.2154539\n",
            "Cost after step    10:  0.0000982\n",
            "Cost after step    15:  0.0000011\n",
            "Cost after step    20:  0.0000000\n",
            "Cost after step    25:  0.0000000\n",
            "Cost after step    30:  0.0000000\n",
            "Cost after step    35:  0.0000000\n",
            "Cost after step    40:  0.0000000\n",
            "Cost after step    45:  0.0000000\n",
            "Cost after step    50:  0.0000000\n",
            "Cost after step    55:  0.0000000\n",
            "Cost after step    60:  0.0000000\n",
            "Cost after step    65:  0.0000000\n",
            "Cost after step    70:  0.0000000\n",
            "Cost after step    75:  0.0000000\n",
            "Cost after step    80:  0.0000000\n",
            "Cost after step    85:  0.0000000\n",
            "Cost after step    90:  0.0000000\n",
            "Cost after step    95:  0.0000000\n",
            "Cost after step   100:  0.0000000\n",
            "Optimized rotation angles: [1.20671364 0.01      ]\n"
          ]
        }
      ]
    },
    {
      "cell_type": "code",
      "source": [
        "result = [1.20671364, 0.01]\n",
        "print(photon_redirection(result))\n",
        "print(qubit_rotation(0.5, 0.1))"
      ],
      "metadata": {
        "colab": {
          "base_uri": "https://localhost:8080/"
        },
        "id": "GGH19f8Ilor_",
        "outputId": "a762edb2-cf1c-46d7-fd4b-ba14788758b1"
      },
      "execution_count": 30,
      "outputs": [
        {
          "output_type": "stream",
          "name": "stdout",
          "text": [
            "0.8731983021146449\n",
            "0.8731983044562817\n"
          ]
        }
      ]
    },
    {
      "cell_type": "code",
      "source": [
        ""
      ],
      "metadata": {
        "id": "IS_w4cNpm7sm"
      },
      "execution_count": null,
      "outputs": []
    }
  ]
}