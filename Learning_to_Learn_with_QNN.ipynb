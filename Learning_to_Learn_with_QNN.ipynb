{
 "cells": [
  {
   "cell_type": "code",
   "execution_count": 1,
   "id": "25909c94-1778-43ea-88d5-5e85253deeac",
   "metadata": {},
   "outputs": [],
   "source": [
    "#necessary imports\n",
    "import pennylane as qml\n",
    "from pennylane import qaoa\n",
    "import tensorflow as tf\n",
    "import networkx as nx\n",
    "import numpy as np \n",
    "from matplotlib import pyplot as plt\n",
    "import random\n",
    "\n",
    "#fixing seeds\n",
    "random.seed(42)\n",
    "np.random.seed(42)\n",
    "tf.random.set_seed(42)"
   ]
  },
  {
   "cell_type": "code",
   "execution_count": 2,
   "id": "cbe9f1d6-af29-4f0f-8d4b-9796e8d0d29b",
   "metadata": {},
   "outputs": [],
   "source": [
    "#use networkx to generate random graphs to train on\n",
    "\n",
    "def generate_graphs(n_graphs, n_nodes, p_edge):\n",
    "    \n",
    "    datapoints = []\n",
    "    for n in range(n_graphs):\n",
    "        random_graph = nx.gnp_random_graph(n_nodes, p=p_edge)\n",
    "        datapoints.append(random_graph)\n",
    "    return datapoints\n",
    "\n"
   ]
  },
  {
   "cell_type": "code",
   "execution_count": 3,
   "id": "834ad31b-9d4a-4e17-8792-8d507343d268",
   "metadata": {},
   "outputs": [],
   "source": [
    "def qaoa_from_graph(graph, n_layers):\n",
    "    \n",
    "    wires = range(len(graph.nodes))\n",
    "    \n",
    "    cost_h, mixer_h = qaoa.maxcut(graph)\n",
    "    \n",
    "    def qaoa_layer(gamma, alpha):\n",
    "        qaoa.cost_layer(gamma, cost_h)\n",
    "        qaoa.mixer_layer(alpha, mixer_h)\n",
    "        \n",
    "    def circuit(params, **kwargs):\n",
    "        for w in wires:\n",
    "            qml.Hadamard(wires=w)\n",
    "        qml.layer(qaoa_layer, n_layers, params[0], params[1])\n",
    "        return qml.expval(cost_h)\n",
    "    \n",
    "    def hamiltonian(params, **kwargs):\n",
    "        \n",
    "        dev = qml.device('default.qubit.tf', wires=len(graph.nodes))\n",
    "        \n",
    "        cost = qml.QNode(circuit, dev, interface='tf', diff_method='backprop')\n",
    "        \n",
    "        return cost(params)\n",
    "    \n",
    "    return hamiltonian"
   ]
  },
  {
   "cell_type": "code",
   "execution_count": 4,
   "id": "a57591b3-339e-487f-944d-2ce85503f7a3",
   "metadata": {},
   "outputs": [
    {
     "data": {
      "image/png": "[encoded data removed]",
      "text/plain": [
       "<Figure size 432x288 with 1 Axes>"
      ]
     },
     "metadata": {},
     "output_type": "display_data"
    }
   ],
   "source": [
    "#let's take a look at how this works\n",
    "\n",
    "n_graphs = 30\n",
    "n_nodes = 8\n",
    "p_edge = 3.0 / n_nodes\n",
    "graphs = generate_graphs(n_graphs, n_nodes, p_edge)\n",
    "\n",
    "nx.draw(graphs[0])"
   ]
  },
  {
   "cell_type": "code",
   "execution_count": 5,
   "id": "55530fe6-77cb-449e-b068-bdbd35870e27",
   "metadata": {},
   "outputs": [
    {
     "name": "stdout",
     "output_type": "stream",
     "text": [
      "tf.Tensor(-4.512936901132845, shape=(), dtype=float64)\n"
     ]
    }
   ],
   "source": [
    "cost = qaoa_from_graph(graph=graphs[0], n_layers=1)\n",
    "\n",
    "x = tf.Variable([[0.5], [0.5]], dtype=tf.float32)\n",
    "\n",
    "print(cost(x))"
   ]
  },
  {
   "cell_type": "code",
   "execution_count": 6,
   "id": "b03e63e4-6c37-4082-ab28-02d5faf0231b",
   "metadata": {},
   "outputs": [],
   "source": [
    "#Let's create an LSTM model that is able to handle both quantum and classical data in a hybrid model\n",
    "\n",
    "n_layers = 1\n",
    "\n",
    "cell = tf.keras.layers.LSTMCell(2 * n_layers)"
   ]
  },
  {
   "cell_type": "code",
   "execution_count": 7,
   "id": "f04331bd-7fa7-4e5f-b970-84f7833c592d",
   "metadata": {},
   "outputs": [],
   "source": [
    "graph_cost_list = [qaoa_from_graph(g, n_layers) for g in graphs]"
   ]
  },
  {
   "cell_type": "code",
   "execution_count": 8,
   "id": "64cb3751-fcfe-4f98-bd50-ba9d1eec12b0",
   "metadata": {},
   "outputs": [],
   "source": [
    "#create a function that will perform one time step of the RNN\n",
    "\n",
    "def rnn_iteration(inputs, graph_cost, n_layers=1):\n",
    "    \n",
    "    prev_cost = inputs[0]\n",
    "    prev_params = inputs[1]\n",
    "    prev_h = inputs[2]\n",
    "    prev_c = inputs[3]\n",
    "    \n",
    "    new_input = tf.keras.layers.concatenate([prev_cost, prev_params])\n",
    "    \n",
    "    new_params, [new_h, new_c] = cell(new_input, states=[prev_h, prev_c])\n",
    "    \n",
    "    _params = tf.reshape(new_params, shape=(2, n_layers))\n",
    "\n",
    "    _cost = graph_cost(_params)\n",
    "    \n",
    "    new_cost = tf.reshape(tf.cast(_cost, dtype=tf.float32), shape=(1, 1))\n",
    "    \n",
    "    return [new_cost, new_params, new_h, new_c]\n",
    "\n",
    "#create a function for a recurrent loop\n",
    "\n",
    "def recurrent_loop(graph_cost, n_layers=1, intermediate_steps=False):\n",
    "    \n",
    "    initial_cost = tf.zeros(shape=(1, 1))\n",
    "    initial_params = tf.zeros(shape=(1, 2 * n_layers))\n",
    "    initial_h = tf.zeros(shape=(1, 2 * n_layers))\n",
    "    initial_c = tf.zeros(shape=(1, 2 * n_layers))\n",
    "    \n",
    "    out0 = rnn_iteration([initial_cost, initial_params, initial_h, initial_c], graph_cost)\n",
    "    out1 = rnn_iteration(out0, graph_cost)\n",
    "    out2 = rnn_iteration(out1, graph_cost)\n",
    "    out3 = rnn_iteration(out2, graph_cost)\n",
    "    out4 = rnn_iteration(out3, graph_cost)\n",
    "    \n",
    "    loss = tf.keras.layers.average(\n",
    "        [0.1 * out0[0], 0.2 * out1[0], 0.3 * out2[0], 0.4 * out3[0], 0.5 * out4[0]]\n",
    "    )\n",
    "    \n",
    "    if intermediate_steps:\n",
    "        return [out0[1], out1[1], out2[1], out3[1], out4[1], loss]\n",
    "    else:\n",
    "        return loss"
   ]
  },
  {
   "cell_type": "code",
   "execution_count": 9,
   "id": "8d00e5b1-633e-4592-8920-ad8b236d987c",
   "metadata": {},
   "outputs": [],
   "source": [
    "#create a single gradient descent step\n",
    "\n",
    "def train_step(graph_cost):\n",
    "    \n",
    "    with tf.GradientTape() as tape:\n",
    "        \n",
    "        loss = recurrent_loop(graph_cost)\n",
    "        \n",
    "    grads = tape.gradient(loss, cell.trainable_weights)\n",
    "    \n",
    "    opt.apply_gradients(zip(grads, cell.trainable_weights))\n",
    "    return loss"
   ]
  },
  {
   "cell_type": "code",
   "execution_count": 10,
   "id": "d196ff39-39d8-4d40-bddd-de38b6cf102e",
   "metadata": {},
   "outputs": [
    {
     "name": "stdout",
     "output_type": "stream",
     "text": [
      "Epoch 1\n",
      "> Graph 1/30 - Loss: -2.2527360916137695\n",
      "> Graph 6/30 - Loss: -2.232595920562744\n",
      "> Graph 11/30 - Loss: -2.0134263038635254\n",
      "> Graph 16/30 - Loss: -1.421688437461853\n",
      "> Graph 21/30 - Loss: -1.4320094585418701\n",
      "> Graph 26/30 - Loss: -2.217761516571045\n",
      ">> Mean loss during epoch: -1.9250328501065572\n",
      "Epoch 2\n",
      "> Graph 1/30 - Loss: -2.7025058269500732\n",
      "> Graph 6/30 - Loss: -2.431377410888672\n",
      "> Graph 11/30 - Loss: -2.2624270915985107\n",
      "> Graph 16/30 - Loss: -1.4723050594329834\n",
      "> Graph 21/30 - Loss: -1.4549248218536377\n",
      "> Graph 26/30 - Loss: -2.227466106414795\n",
      ">> Mean loss during epoch: -2.0067639350891113\n",
      "Epoch 3\n",
      "> Graph 1/30 - Loss: -2.769179344177246\n",
      "> Graph 6/30 - Loss: -2.442570209503174\n",
      "> Graph 11/30 - Loss: -2.2650725841522217\n",
      "> Graph 16/30 - Loss: -1.474663496017456\n",
      "> Graph 21/30 - Loss: -1.45889151096344\n",
      "> Graph 26/30 - Loss: -2.2253408432006836\n",
      ">> Mean loss during epoch: -2.0163506110509237\n",
      "Epoch 4\n",
      "> Graph 1/30 - Loss: -2.7873682975769043\n",
      "> Graph 6/30 - Loss: -2.4413390159606934\n",
      "> Graph 11/30 - Loss: -2.2754695415496826\n",
      "> Graph 16/30 - Loss: -1.4752447605133057\n",
      "> Graph 21/30 - Loss: -1.4594732522964478\n",
      "> Graph 26/30 - Loss: -2.2208380699157715\n",
      ">> Mean loss during epoch: -2.017951850096385\n",
      "Epoch 5\n",
      "> Graph 1/30 - Loss: -2.811270236968994\n",
      "> Graph 6/30 - Loss: -2.437063217163086\n",
      "> Graph 11/30 - Loss: -2.2790331840515137\n",
      "> Graph 16/30 - Loss: -1.4752838611602783\n",
      "> Graph 21/30 - Loss: -1.4587678909301758\n",
      "> Graph 26/30 - Loss: -2.2166543006896973\n",
      ">> Mean loss during epoch: -2.0192878603935243\n"
     ]
    }
   ],
   "source": [
    "opt = tf.keras.optimizers.Adam(learning_rate=0.1)\n",
    "\n",
    "epochs = 5\n",
    "\n",
    "for epoch in range(epochs):\n",
    "    print(f'Epoch {epoch+1}')\n",
    "    total_loss = np.array([])\n",
    "    for i, graph_cost in enumerate(graph_cost_list):\n",
    "        loss = train_step(graph_cost)\n",
    "        total_loss = np.append(total_loss, loss.numpy())\n",
    "        \n",
    "        if i % 5 == 0:\n",
    "            print(f'> Graph {i + 1}/{len(graph_cost_list)} - Loss: {loss[0][0]}')\n",
    "        \n",
    "    print(f'>> Mean loss during epoch: {np.mean(total_loss)}')"
   ]
  },
  {
   "cell_type": "code",
   "execution_count": 16,
   "id": "6bbcd4a4-a8c8-467e-8d4b-d8f6390c2845",
   "metadata": {},
   "outputs": [
    {
     "data": {
      "image/png": "[encoded data removed]",
      "text/plain": [
       "<Figure size 432x288 with 1 Axes>"
      ]
     },
     "metadata": {},
     "output_type": "display_data"
    }
   ],
   "source": [
    "#Let's see how well our model works\n",
    "\n",
    "new_graph = nx.gnp_random_graph(7, p=3/ 7)\n",
    "new_cost = qaoa_from_graph(new_graph, n_layers=1)\n",
    "\n",
    "nx.draw(new_graph)"
   ]
  },
  {
   "cell_type": "code",
   "execution_count": 17,
   "id": "eb78bc70-7ead-482c-814b-3a2db523ff4c",
   "metadata": {},
   "outputs": [],
   "source": [
    "result = recurrent_loop(new_cost, intermediate_steps=True)\n",
    "\n",
    "start_zeros = tf.zeros(shape=(2 * n_layers, 1))\n",
    "guess_0 = result[0]\n",
    "guess_1 = result[1]\n",
    "guess_2 = result[2]\n",
    "guess_3 = result[3]\n",
    "guess_4 = result[4]\n",
    "final_loss = result[5]\n",
    "\n",
    "guesses = [start_zeros, guess_0, guess_1, guess_2, guess_3, guess_4]\n",
    "\n",
    "lstm_losses = [new_cost(tf.reshape(guess, shape=(2, n_layers))) for guess in guesses]"
   ]
  },
  {
   "cell_type": "code",
   "execution_count": 18,
   "id": "d747cd6b-fc33-4017-b837-9de75a4d61e0",
   "metadata": {},
   "outputs": [
    {
     "data": {
      "image/png": "[encoded data removed]",
      "text/plain": [
       "<Figure size 432x288 with 1 Axes>"
      ]
     },
     "metadata": {
      "needs_background": "light"
     },
     "output_type": "display_data"
    }
   ],
   "source": [
    "fig, ax = plt.subplots()\n",
    "\n",
    "plt.plot(lstm_losses, color='blue', lw=3, ls='-.', label='LSTM')\n",
    "\n",
    "plt.grid(ls='--', lw=2, alpha=0.25)\n",
    "plt.ylabel('Cost function', fontsize=12)\n",
    "plt.xlabel('Iteration', fontsize=12)\n",
    "plt.legend()\n",
    "ax.set_xticks([0, 5, 10, 15, 20]);\n",
    "plt.show()"
   ]
  },
  {
   "cell_type": "code",
   "execution_count": 21,
   "id": "03da3245-1866-4c14-a7df-13815b52e430",
   "metadata": {},
   "outputs": [
    {
     "name": "stdout",
     "output_type": "stream",
     "text": [
      "Step 1 - Loss = -1.8353040534446194\n",
      "Step 2 - Loss = -1.8471836065737113\n",
      "Step 3 - Loss = -1.8655025814811854\n",
      "Step 4 - Loss = -1.893895838994193\n",
      "Step 5 - Loss = -1.9379117731282303\n",
      "Step 6 - Loss = -2.0057735396102263\n",
      "Step 7 - Loss = -2.1090828439135585\n",
      "Step 8 - Loss = -2.262873930023056\n",
      "Step 9 - Loss = -2.483762184638653\n",
      "Step 10 - Loss = -2.784366253186505\n",
      "Step 11 - Loss = -3.163200499778251\n",
      "Step 12 - Loss = -3.5941219356532312\n",
      "Step 13 - Loss = -4.0264403962575095\n",
      "Step 14 - Loss = -4.4041061432680095\n",
      "Step 15 - Loss = -4.692511994943326\n",
      "Final Cost Function: -4.889032346125357\n",
      "Optimizsed angles: [[ 0.85908533]\n",
      " [-0.24600869]]\n"
     ]
    }
   ],
   "source": [
    "# How did the RNN optimization perform against other techniques, like Stochastic Gradient Descent\n",
    "\n",
    "x = tf.Variable(np.random.rand(2, 1))\n",
    "\n",
    "opt = tf.keras.optimizers.SGD(learning_rate=0.01)\n",
    "step = 15\n",
    "\n",
    "steps = []\n",
    "sdg_losses = []\n",
    "for s in range(step):\n",
    "    with tf.GradientTape() as tape:\n",
    "        loss = new_cost(x)\n",
    "        \n",
    "    steps.append(x)\n",
    "    sdg_losses.append(loss)\n",
    "    \n",
    "    gradients = tape.gradient(loss, [x])\n",
    "    opt.apply_gradients(zip(gradients, [x]))\n",
    "    print(f'Step {s+1} - Loss = {loss}')\n",
    "    \n",
    "print(f'Final Cost Function: {new_cost(x).numpy()}\\nOptimizsed angles: {x.numpy()}')"
   ]
  },
  {
   "cell_type": "code",
   "execution_count": 22,
   "id": "1ea89fc1-fa0f-4faf-b4fb-b93a0f46a21b",
   "metadata": {},
   "outputs": [
    {
     "data": {
      "image/png": "[encoded data removed]",
      "text/plain": [
       "<Figure size 432x288 with 1 Axes>"
      ]
     },
     "metadata": {
      "needs_background": "light"
     },
     "output_type": "display_data"
    }
   ],
   "source": [
    "fig, ax = plt.subplots()\n",
    "\n",
    "plt.plot(sdg_losses, color='orange', lw=3, label='SGD')\n",
    "\n",
    "plt.plot(lstm_losses, color='blue', lw=3, ls='-.', label='LSTM')\n",
    "\n",
    "plt.grid(ls='--', lw=2, alpha=0.25)\n",
    "plt.legend()\n",
    "plt.ylabel('Cost Function', fontsize=12)\n",
    "plt.xlabel('Iteration', fontsize=12)\n",
    "ax.set_xticks([0, 5, 10, 15, 20])\n",
    "plt.show()"
   ]
  },
  {
   "cell_type": "code",
   "execution_count": null,
   "id": "005571a6-82d2-46dd-ac55-5182166d8068",
   "metadata": {},
   "outputs": [],
   "source": []
  }
 ],
 "metadata": {
  "kernelspec": {
   "display_name": "Python 3",
   "language": "python",
   "name": "python3"
  },
  "language_info": {
   "codemirror_mode": {
    "name": "ipython",
    "version": 3
   },
   "file_extension": ".py",
   "mimetype": "text/x-python",
   "name": "python",
   "nbconvert_exporter": "python",
   "pygments_lexer": "ipython3",
   "version": "3.8.8"
  }
 },
 "nbformat": 4,
 "nbformat_minor": 5
}
