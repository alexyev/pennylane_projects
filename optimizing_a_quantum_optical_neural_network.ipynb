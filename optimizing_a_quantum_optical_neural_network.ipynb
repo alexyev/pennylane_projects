{
 "cells": [
  {
   "cell_type": "code",
   "execution_count": 1,
   "id": "d10290a9-79a6-436c-827f-69a4c8dad356",
   "metadata": {},
   "outputs": [],
   "source": [
    "import pennylane as qml\n",
    "from pennylane import numpy as np\n",
    "from pennylane.optimize import AdamOptimizer"
   ]
  },
  {
   "cell_type": "code",
   "execution_count": 2,
   "id": "74e882ab-d5dd-4951-8779-ab722d898eea",
   "metadata": {},
   "outputs": [],
   "source": [
    "dev = qml.device('strawberryfields.fock', wires=4, cutoff_dim=4)"
   ]
  },
  {
   "cell_type": "code",
   "execution_count": 3,
   "id": "0e296730-2bc5-4257-a09b-84fc2a6d68ef",
   "metadata": {},
   "outputs": [],
   "source": [
    "def layer(theta, phi, wires):\n",
    "    M = len(wires)\n",
    "    phi_nonlinear = np.pi / 2\n",
    "\n",
    "    qml.Interferometer(\n",
    "        theta, phi, np.zeros(M), wires=wires, mesh=\"triangular\",\n",
    "    )\n",
    "\n",
    "    for i in wires:\n",
    "        qml.Kerr(phi_nonlinear, wires=i)"
   ]
  },
  {
   "cell_type": "code",
   "execution_count": 4,
   "id": "98254786-0839-46a2-80fc-7aa43f61b5a7",
   "metadata": {},
   "outputs": [],
   "source": [
    "@qml.qnode(dev)\n",
    "def quantum_neural_net(var, x):\n",
    "    wires = list(range(len(x)))\n",
    "\n",
    "    for i in wires:\n",
    "        qml.FockState(x[i], wires=i)\n",
    "\n",
    "    # \"layer\" subcircuits\n",
    "    for i, v in enumerate(var):\n",
    "        layer(v[: len(v) // 2], v[len(v) // 2 :], wires)\n",
    "\n",
    "    return [qml.expval(qml.NumberOperator(w)) for w in wires]"
   ]
  },
  {
   "cell_type": "code",
   "execution_count": 5,
   "id": "1292d7ab-ea4e-4998-9ec9-6f1172fb32ee",
   "metadata": {},
   "outputs": [],
   "source": [
    "def square_loss(labels, predictions):\n",
    "    term = 0\n",
    "    for l, p in zip(labels, predictions):\n",
    "        lnorm = l / np.linalg.norm(l)\n",
    "        pnorm = p / np.linalg.norm(p)\n",
    "\n",
    "        term = term + np.abs(np.dot(lnorm, pnorm.T)) ** 2\n",
    "\n",
    "    return 1 - term / len(labels)"
   ]
  },
  {
   "cell_type": "code",
   "execution_count": 6,
   "id": "a3eaec5f-ea0d-40b2-a465-b272768110a3",
   "metadata": {},
   "outputs": [],
   "source": [
    "def cost(var, data_input, labels):\n",
    "    predictions = np.array([quantum_neural_net(var, x) for x in data_input])\n",
    "    sl = square_loss(labels, predictions)\n",
    "\n",
    "    return sl"
   ]
  },
  {
   "cell_type": "code",
   "execution_count": 7,
   "id": "0abc13f6-b094-4bd1-9794-7808b25dece9",
   "metadata": {},
   "outputs": [],
   "source": [
    "X = np.array([[1, 0, 1, 0],\n",
    "              [1, 0, 0, 1],\n",
    "              [0, 1, 1, 0],\n",
    "              [0, 1, 0, 1]], requires_grad=False)\n",
    "\n",
    "Y = np.array([[1, 0, 1, 0],\n",
    "              [1, 0, 0, 1],\n",
    "              [0, 1, 0, 1],\n",
    "              [0, 1, 1, 0]], requires_grad=False)"
   ]
  },
  {
   "cell_type": "code",
   "execution_count": 8,
   "id": "69b5f6af-0419-4826-a6d3-f4debcd06435",
   "metadata": {},
   "outputs": [
    {
     "name": "stdout",
     "output_type": "stream",
     "text": [
      "[[ 5.99038594 -1.50550479  5.31866903 -2.99466132 -2.27329341 -4.79920711\n",
      "  -3.24506046 -2.2803699   5.83179179 -2.97006415 -0.74133893  1.38067731]\n",
      " [ 4.56939998  4.5711137   2.1976234   2.00904031  2.96261861 -3.48398028\n",
      "  -4.12093786  4.65477183 -5.52746064  2.30830291  2.15184041  1.3950931 ]]\n"
     ]
    }
   ],
   "source": [
    "num_layers = 2\n",
    "M = len(X[0])\n",
    "num_variables_per_layer = M * (M - 1)\n",
    "\n",
    "rng = np.random.default_rng(seed=1234)\n",
    "var_init = (4 * rng.random(size=(num_layers, num_variables_per_layer), requires_grad=True) - 2) * np.pi\n",
    "print(var_init)"
   ]
  },
  {
   "cell_type": "code",
   "execution_count": null,
   "id": "dcb029c0-d5ad-462e-ac74-b7478e8df6a0",
   "metadata": {},
   "outputs": [],
   "source": [
    "opt = AdamOptimizer(0.01, beta1=0.9, beta2=0.999)\n",
    "\n",
    "var = var_init\n",
    "for it in range(200):\n",
    "    var = opt.step(lambda v: cost(v, X, Y), var)\n",
    "\n",
    "    if (it+1) % 20 == 0:\n",
    "        print(f\"Iter: {it+1:5d} | Cost: {cost(var, X, Y):0.7f} \")"
   ]
  },
  {
   "cell_type": "code",
   "execution_count": null,
   "id": "f8f0cd15-4441-4479-b1d4-c6188fb51eae",
   "metadata": {},
   "outputs": [],
   "source": [
    "print(f\"The optimized parameters (layers, parameters):\\n {var}\\n\")\n",
    "\n",
    "Y_pred = np.array([quantum_neural_net(var, x) for x in X])\n",
    "for i, x in enumerate(X):\n",
    "    print(f\"{x} --> {Y_pred[i].round(2)}, should be {Y[i]}\")"
   ]
  },
  {
   "cell_type": "code",
   "execution_count": null,
   "id": "0dc47cff-797c-4c6f-936c-9face29106a8",
   "metadata": {},
   "outputs": [],
   "source": [
    "print(qml.draw(quantum_neural_net)(var_init, X[0]))"
   ]
  },
  {
   "cell_type": "code",
   "execution_count": null,
   "id": "cc5412ef-ef1e-43a4-82b8-dff40c6b0062",
   "metadata": {},
   "outputs": [],
   "source": []
  }
 ],
 "metadata": {
  "kernelspec": {
   "display_name": "Python 3",
   "language": "python",
   "name": "python3"
  },
  "language_info": {
   "codemirror_mode": {
    "name": "ipython",
    "version": 3
   },
   "file_extension": ".py",
   "mimetype": "text/x-python",
   "name": "python",
   "nbconvert_exporter": "python",
   "pygments_lexer": "ipython3",
   "version": "3.8.8"
  }
 },
 "nbformat": 4,
 "nbformat_minor": 5
}
