{
  "nbformat": 4,
  "nbformat_minor": 0,
  "metadata": {
    "colab": {
      "name": "Simulating_Noisy_Circuits.ipynb",
      "provenance": [],
      "authorship_tag": "ABX9TyMyppL18KWywE6ccOhIBI/U",
      "include_colab_link": true
    },
    "kernelspec": {
      "name": "python3",
      "display_name": "Python 3"
    },
    "language_info": {
      "name": "python"
    }
  },
  "cells": [
    {
      "cell_type": "markdown",
      "metadata": {
        "id": "view-in-github",
        "colab_type": "text"
      },
      "source": [
        "<a href=\"https://colab.research.google.com/github/alexyev/pennylane_projects/blob/master/Simulating_Noisy_Circuits.ipynb\" target=\"_parent\"><img src=\"https://colab.research.google.com/assets/colab-badge.svg\" alt=\"Open In Colab\"/></a>"
      ]
    },
    {
      "cell_type": "code",
      "execution_count": null,
      "metadata": {
        "id": "7bKDYH3PpVyl"
      },
      "outputs": [],
      "source": [
        "!pip install pennylane\n",
        "import pennylane as qml\n",
        "from pennylane import numpy as np"
      ]
    },
    {
      "cell_type": "code",
      "source": [
        "dev = qml.device('default.mixed', wires=2)\n",
        "\n",
        "@qml.qnode(dev)\n",
        "def circuit():\n",
        "  qml.Hadamard(wires=0)\n",
        "  qml.CNOT(wires=[0, 1])\n",
        "  return qml.expval(qml.PauliZ(0) @ qml.PauliZ(1))\n",
        "\n",
        "print(f'QNode output: {circuit():.4f}')"
      ],
      "metadata": {
        "colab": {
          "base_uri": "https://localhost:8080/"
        },
        "id": "0aFQvsXzp4Xj",
        "outputId": "8ea3e190-f931-480c-8558-b45d53fef13f"
      },
      "execution_count": 8,
      "outputs": [
        {
          "output_type": "stream",
          "name": "stdout",
          "text": [
            "QNode output: 1.0000\n"
          ]
        }
      ]
    },
    {
      "cell_type": "code",
      "source": [
        "print(f'Output state is: \\n{np.real(dev.state)}')"
      ],
      "metadata": {
        "colab": {
          "base_uri": "https://localhost:8080/"
        },
        "id": "WHQ7zecTqqtl",
        "outputId": "6c1537c6-dfde-4158-fd31-b9797a8b7543"
      },
      "execution_count": 9,
      "outputs": [
        {
          "output_type": "stream",
          "name": "stdout",
          "text": [
            "Output state is: \n",
            "[[0.5 0.  0.  0.5]\n",
            " [0.  0.  0.  0. ]\n",
            " [0.  0.  0.  0. ]\n",
            " [0.5 0.  0.  0.5]]\n"
          ]
        }
      ]
    },
    {
      "cell_type": "code",
      "source": [
        "# simualting noise in a bitflip circuit\n",
        "\n",
        "@qml.qnode(dev)\n",
        "def bitflip_circuit(p):\n",
        "  qml.Hadamard(wires=0)\n",
        "  qml.CNOT(wires=[0, 1])\n",
        "  qml.BitFlip(p, wires=0)\n",
        "  qml.BitFlip(p, wires=1)\n",
        "  return qml.expval(qml.PauliZ(0) @ qml.PauliZ(1))\n",
        "\n",
        "ps = [0.001, 0.01, 0.1, 0.2]\n",
        "\n",
        "for p in ps:\n",
        "  print(f'Qnode output for BitFlip probability {p} is: {bitflip_circuit(p):.4f}')"
      ],
      "metadata": {
        "colab": {
          "base_uri": "https://localhost:8080/"
        },
        "id": "O128Zen1rMUs",
        "outputId": "8e406537-5af6-4af8-a83f-3de1392da6ef"
      },
      "execution_count": 10,
      "outputs": [
        {
          "output_type": "stream",
          "name": "stdout",
          "text": [
            "Qnode output for BitFlip probability 0.001 is: 0.9960\n",
            "Qnode output for BitFlip probability 0.01 is: 0.9604\n",
            "Qnode output for BitFlip probability 0.1 is: 0.6400\n",
            "Qnode output for BitFlip probability 0.2 is: 0.3600\n"
          ]
        }
      ]
    },
    {
      "cell_type": "code",
      "source": [
        "print(f'Output state for bitflip probability {p} is: \\n{np.real(dev.state)}')"
      ],
      "metadata": {
        "colab": {
          "base_uri": "https://localhost:8080/"
        },
        "id": "SUIW2ODjSLBe",
        "outputId": "339df541-126f-41df-8210-d400d4265e25"
      },
      "execution_count": 11,
      "outputs": [
        {
          "output_type": "stream",
          "name": "stdout",
          "text": [
            "Output state for bitflip probability 0.2 is: \n",
            "[[0.34 0.   0.   0.34]\n",
            " [0.   0.16 0.16 0.  ]\n",
            " [0.   0.16 0.16 0.  ]\n",
            " [0.34 0.   0.   0.34]]\n"
          ]
        }
      ]
    },
    {
      "cell_type": "code",
      "source": [
        "# simualting depolarization in a Bell State\n",
        "\n",
        "@qml.qnode(dev)\n",
        "def depolarizing_circuit(p):\n",
        "  qml.Hadamard(wires=0)\n",
        "  qml.CNOT(wires=[0, 1])\n",
        "  qml.DepolarizingChannel(p, wires=0)\n",
        "  qml.DepolarizingChannel(p, wires=1)\n",
        "  return qml.expval(qml.PauliZ(0) @ qml.PauliZ(1))\n",
        "\n",
        "ps = [0.001, 0.01, 0.1, 0.2]\n",
        "\n",
        "for p in ps:\n",
        "  print(f'Qnode output for depolarizing probability {p} is: {depolarizing_circuit(p):.4f}')"
      ],
      "metadata": {
        "colab": {
          "base_uri": "https://localhost:8080/"
        },
        "id": "jz9TTpAqTJgh",
        "outputId": "60181e03-65a2-4b97-f61b-c75e654a38cb"
      },
      "execution_count": 12,
      "outputs": [
        {
          "output_type": "stream",
          "name": "stdout",
          "text": [
            "Qnode output for depolarizing probability 0.001 is: 0.9973\n",
            "Qnode output for depolarizing probability 0.01 is: 0.9735\n",
            "Qnode output for depolarizing probability 0.1 is: 0.7511\n",
            "Qnode output for depolarizing probability 0.2 is: 0.5378\n"
          ]
        }
      ]
    },
    {
      "cell_type": "code",
      "source": [
        "ev = np.tensor(0.7781, requires_grad=False)\n",
        "\n",
        "def sigmoid(x):\n",
        "  return 1/(1+np.exp(-x))\n",
        "\n",
        "@qml.qnode(dev)\n",
        "def damping_circuit(x):\n",
        "  qml.Hadamard(wires=0)\n",
        "  qml.CNOT(wires=[0, 1])\n",
        "  qml.AmplitudeDamping(sigmoid(x), wires=0)\n",
        "  qml.AmplitudeDamping(sigmoid(x), wires=1)\n",
        "  return qml.expval(qml.PauliZ(0) @ qml.PauliZ(1))"
      ],
      "metadata": {
        "id": "1EF5bYcfUaRU"
      },
      "execution_count": 13,
      "outputs": []
    },
    {
      "cell_type": "code",
      "source": [
        "def cost(x, target):\n",
        "  return (damping_circuit(x) - target) ** 2"
      ],
      "metadata": {
        "id": "l_GrK4yGY_JV"
      },
      "execution_count": 14,
      "outputs": []
    },
    {
      "cell_type": "code",
      "source": [
        "opt = qml.GradientDescentOptimizer(stepsize = 10)\n",
        "steps = 35\n",
        "x = np.tensor(0.0, requires_grad=True)\n",
        "\n",
        "for i in range(steps):\n",
        "  (x, ev), cost_val = opt.step_and_cost(cost, x, ev)\n",
        "  if i % 5 == 0 or i == steps - 1:\n",
        "    print(f'Step: {i}    Cost Value: {cost_val}')\n",
        "\n",
        "print(f'Qnode output after optimization: {damping_circuit(x):.4f}')\n",
        "print(f'Experimental Expectation Output: {ev}')\n",
        "print(f'Optimal noise parameter p: {sigmoid(x.take(0)):.4f}')"
      ],
      "metadata": {
        "colab": {
          "base_uri": "https://localhost:8080/"
        },
        "id": "NRZlBfBIZOSK",
        "outputId": "dd971d13-a1e0-4003-daae-ba7d300f4409"
      },
      "execution_count": 16,
      "outputs": [
        {
          "output_type": "stream",
          "name": "stdout",
          "text": [
            "Step: 0    Cost Value: 0.07733961000000007\n",
            "Step: 5    Cost Value: 0.07733960999999988\n",
            "Step: 10    Cost Value: 0.07733960999863909\n",
            "Step: 15    Cost Value: 0.07733960170319246\n",
            "Step: 20    Cost Value: 0.07728907281668594\n",
            "Step: 25    Cost Value: 0.006192562764640602\n",
            "Step: 30    Cost Value: 6.427645677603198e-07\n",
            "Step: 34    Cost Value: 1.1072988376257744e-09\n",
            "Qnode output after optimization: 0.7781\n",
            "Experimental Expectation Output: 0.7781\n",
            "Optimal noise parameter p: 0.1271\n"
          ]
        }
      ]
    },
    {
      "cell_type": "code",
      "source": [
        ""
      ],
      "metadata": {
        "id": "2_hFQ_lnacH6"
      },
      "execution_count": null,
      "outputs": []
    }
  ]
}