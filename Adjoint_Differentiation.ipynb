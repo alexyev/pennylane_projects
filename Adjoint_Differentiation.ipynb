{
  "nbformat": 4,
  "nbformat_minor": 0,
  "metadata": {
    "colab": {
      "name": "Adjoint_Differentiation.ipynb",
      "provenance": [],
      "authorship_tag": "ABX9TyP4pPeXJuLk0D+1thEjDA3r",
      "include_colab_link": true
    },
    "kernelspec": {
      "name": "python3",
      "display_name": "Python 3"
    },
    "language_info": {
      "name": "python"
    }
  },
  "cells": [
    {
      "cell_type": "markdown",
      "metadata": {
        "id": "view-in-github",
        "colab_type": "text"
      },
      "source": [
        "<a href=\"https://colab.research.google.com/github/alexyev/pennylane_projects/blob/master/Adjoint_Differentiation.ipynb\" target=\"_parent\"><img src=\"https://colab.research.google.com/assets/colab-badge.svg\" alt=\"Open In Colab\"/></a>"
      ]
    },
    {
      "cell_type": "code",
      "execution_count": 1,
      "metadata": {
        "colab": {
          "base_uri": "https://localhost:8080/"
        },
        "id": "FFsarM5zaD-E",
        "outputId": "0a286073-75c2-45d0-e812-6c303c421f1e"
      },
      "outputs": [
        {
          "output_type": "stream",
          "name": "stdout",
          "text": [
            "Collecting pennylane\n",
            "  Downloading PennyLane-0.20.0-py3-none-any.whl (756 kB)\n",
            "\u001b[K     |████████████████████████████████| 756 kB 4.1 MB/s \n",
            "\u001b[?25hRequirement already satisfied: scipy in /usr/local/lib/python3.7/dist-packages (from pennylane) (1.4.1)\n",
            "Requirement already satisfied: autograd in /usr/local/lib/python3.7/dist-packages (from pennylane) (1.3)\n",
            "Requirement already satisfied: appdirs in /usr/local/lib/python3.7/dist-packages (from pennylane) (1.4.4)\n",
            "Collecting pennylane-lightning>=0.18\n",
            "  Downloading PennyLane_Lightning-0.20.1-cp37-cp37m-manylinux2014_x86_64.whl (305 kB)\n",
            "\u001b[K     |████████████████████████████████| 305 kB 49.7 MB/s \n",
            "\u001b[?25hRequirement already satisfied: toml in /usr/local/lib/python3.7/dist-packages (from pennylane) (0.10.2)\n",
            "Collecting autoray\n",
            "  Downloading autoray-0.2.5-py3-none-any.whl (16 kB)\n",
            "Collecting semantic-version==2.6\n",
            "  Downloading semantic_version-2.6.0-py3-none-any.whl (14 kB)\n",
            "Requirement already satisfied: cachetools in /usr/local/lib/python3.7/dist-packages (from pennylane) (4.2.4)\n",
            "Requirement already satisfied: networkx in /usr/local/lib/python3.7/dist-packages (from pennylane) (2.6.3)\n",
            "Requirement already satisfied: numpy in /usr/local/lib/python3.7/dist-packages (from pennylane) (1.19.5)\n",
            "Collecting ninja\n",
            "  Downloading ninja-1.10.2.3-py2.py3-none-manylinux_2_5_x86_64.manylinux1_x86_64.whl (108 kB)\n",
            "\u001b[K     |████████████████████████████████| 108 kB 54.4 MB/s \n",
            "\u001b[?25hRequirement already satisfied: future>=0.15.2 in /usr/local/lib/python3.7/dist-packages (from autograd->pennylane) (0.16.0)\n",
            "Installing collected packages: ninja, semantic-version, pennylane-lightning, autoray, pennylane\n",
            "Successfully installed autoray-0.2.5 ninja-1.10.2.3 pennylane-0.20.0 pennylane-lightning-0.20.1 semantic-version-2.6.0\n"
          ]
        }
      ],
      "source": [
        "!pip install pennylane\n",
        "import pennylane as qml\n",
        "from pennylane import numpy as np"
      ]
    },
    {
      "cell_type": "code",
      "source": [
        "dev = qml.device('default.qubit', wires=2)\n",
        "\n",
        "x = np.array([0.1, 0.2, 0.3])\n",
        "\n",
        "@qml.qnode(dev, diff_method='adjoint')\n",
        "def circuit(a):\n",
        "  qml.RX(a[0], wires=0)\n",
        "  qml.CNOT(wires=[0,1])\n",
        "  qml.RY(a[1], wires=1)\n",
        "  qml.RZ(a[2], wires=1)\n",
        "  return qml.expval(qml.PauliX(wires=1))"
      ],
      "metadata": {
        "id": "JPqijTP2bY9M"
      },
      "execution_count": 2,
      "outputs": []
    },
    {
      "cell_type": "code",
      "source": [
        "n_gates = 4\n",
        "n_params = 3\n",
        "\n",
        "ops = [\n",
        "       qml.RX(x[0], wires=0),\n",
        "       qml.CNOT(wires=[0, 1]),\n",
        "       qml.RY(x[1], wires=1),\n",
        "       qml.RZ(x[2], wires=1)\n",
        "]\n",
        "\n",
        "M = qml.PauliX(wires=1)"
      ],
      "metadata": {
        "id": "YlNojBLfchAZ"
      },
      "execution_count": 3,
      "outputs": []
    },
    {
      "cell_type": "code",
      "source": [
        "state = dev._create_basis_state(0)\n",
        "\n",
        "for op in ops:\n",
        "  state = dev._apply_operation(state, op)\n",
        "\n",
        "print(state)"
      ],
      "metadata": {
        "colab": {
          "base_uri": "https://localhost:8080/"
        },
        "id": "GpOMO1rvdcdr",
        "outputId": "e9d038ce-af69-49d0-ba97-f48ba13a4e76"
      },
      "execution_count": 4,
      "outputs": [
        {
          "output_type": "stream",
          "name": "stdout",
          "text": [
            "[[9.82601808e-01-0.14850574j 9.85890302e-02+0.01490027j]\n",
            " [7.45635195e-04+0.00493356j 7.43148086e-03-0.04917107j]]\n"
          ]
        }
      ]
    },
    {
      "cell_type": "code",
      "source": [
        "bra = dev._apply_operation(state, M)\n",
        "ket = state"
      ],
      "metadata": {
        "id": "StkKzMKEdm41"
      },
      "execution_count": 5,
      "outputs": []
    },
    {
      "cell_type": "code",
      "source": [
        "M_expval = np.vdot(bra, ket)\n",
        "\n",
        "print('vdot : ', M_expval)\n",
        "print('QNode : ', circuit(x))"
      ],
      "metadata": {
        "colab": {
          "base_uri": "https://localhost:8080/"
        },
        "id": "0jJUAlb6eR1d",
        "outputId": "8b28a22d-f7dd-4b27-97d9-8c02cf1f3e9a"
      },
      "execution_count": 6,
      "outputs": [
        {
          "output_type": "stream",
          "name": "stdout",
          "text": [
            "vdot :  (0.18884787122715618+3.634721684493463e-19j)\n",
            "QNode :  0.18884787122715618\n"
          ]
        }
      ]
    },
    {
      "cell_type": "code",
      "source": [
        "bra_n = dev._create_basis_state(0)\n",
        "\n",
        "for op in ops:\n",
        "  bra_n = dev._apply_operation(bra_n, op)\n",
        "  \n",
        "bra_n = dev._apply_operation(bra_n, M)\n",
        "bra_n = dev._apply_operation(bra_n, ops[-1].inv())\n",
        "\n",
        "ops[-1].inv()\n",
        "\n",
        "ket_n = dev._create_basis_state(0)\n",
        "\n",
        "for op in ops[:-1]:\n",
        "  ket_n = dev._apply_operation(ket_n, op)\n",
        "\n",
        "M_expval_n = np.vdot(bra_n, ket_n)\n",
        "print(M_expval_n)"
      ],
      "metadata": {
        "colab": {
          "base_uri": "https://localhost:8080/"
        },
        "id": "NwgJrQ4GeeJU",
        "outputId": "ccac48d9-86a4-4471-c8dc-b258cdd811e5"
      },
      "execution_count": 7,
      "outputs": [
        {
          "output_type": "stream",
          "name": "stdout",
          "text": [
            "(0.18884787122715616+1.9739809094676298e-18j)\n"
          ]
        }
      ]
    },
    {
      "cell_type": "code",
      "source": [
        "bra_n_v2 = dev._apply_operation(state, M)\n",
        "ket_n_v2 = state\n",
        "\n",
        "ops[-1].inv()\n",
        "\n",
        "bra_n_v2 = dev._apply_operation(bra_n_v2, ops[-1])\n",
        "ket_n_v2 = dev._apply_operation(ket_n_v2, ops[-1])\n",
        "\n",
        "ops[-1].inv()\n",
        "\n",
        "M_expval_n = np.vdot(bra_n_v2, ket_n_v2)\n",
        "print(M_expval_n)"
      ],
      "metadata": {
        "id": "H1Xn6OPyhGrE",
        "colab": {
          "base_uri": "https://localhost:8080/"
        },
        "outputId": "f404c966-6192-49ff-92e6-44009b1e7288"
      },
      "execution_count": 8,
      "outputs": [
        {
          "output_type": "stream",
          "name": "stdout",
          "text": [
            "(0.18884787122715613+2.9931365520227565e-18j)\n"
          ]
        }
      ]
    },
    {
      "cell_type": "code",
      "source": [
        "bra_loop = dev._apply_operation(state, M)\n",
        "ket_loop = state\n",
        "\n",
        "for op in reversed(ops):\n",
        "  op.inv()\n",
        "  bra_loop = dev._apply_operation(bra_loop, op)\n",
        "  ket_loop = dev._apply_operation(ket_loop, op)\n",
        "  op.inv()\n",
        "  print(np.vdot(bra_loop, ket_loop))"
      ],
      "metadata": {
        "colab": {
          "base_uri": "https://localhost:8080/"
        },
        "id": "O_NRTOibUDRd",
        "outputId": "410e8c5d-db42-48ba-fbec-916975a8bc90"
      },
      "execution_count": 9,
      "outputs": [
        {
          "output_type": "stream",
          "name": "stdout",
          "text": [
            "(0.18884787122715613+2.9931365520227565e-18j)\n",
            "(0.18884787122715618+5.718281173551752e-18j)\n",
            "(0.18884787122715618+5.718281173551752e-18j)\n",
            "(0.18884787122715618+5.718281173551752e-18j)\n"
          ]
        }
      ]
    },
    {
      "cell_type": "code",
      "source": [
        "# to calculate the derivative of an operator\n",
        "\n",
        "grad_op0 = qml.operation.operation_derivative(ops[0])\n",
        "print(grad_op0)"
      ],
      "metadata": {
        "colab": {
          "base_uri": "https://localhost:8080/"
        },
        "id": "ryN7zee9VcBw",
        "outputId": "523d0cd2-9fd4-4f55-b6ae-f25c0dbe104a"
      },
      "execution_count": 10,
      "outputs": [
        {
          "output_type": "stream",
          "name": "stdout",
          "text": [
            "[[-0.02498958+0.j          0.        -0.49937513j]\n",
            " [ 0.        -0.49937513j -0.02498958+0.j        ]]\n"
          ]
        }
      ]
    },
    {
      "cell_type": "code",
      "source": [
        "bra = dev._apply_operation(state, M)\n",
        "ket = state\n",
        "\n",
        "grads = []\n",
        "\n",
        "for op in reversed(ops):\n",
        "  op.inv()\n",
        "  ket = dev._apply_operation(ket, op)\n",
        "\n",
        "  if op.num_params != 0:\n",
        "    dU = qml.operation.operation_derivative(op)\n",
        "\n",
        "    bra_temp = dev._apply_unitary(bra, dU, op.wires)\n",
        "\n",
        "    dM = 2 * np.real(np.vdot(bra_temp, ket))\n",
        "\n",
        "    grads.append(dM)\n",
        "\n",
        "  bra = dev._apply_operation(bra, op)\n",
        "  op.inv()\n",
        "\n",
        "grads = grads[::-1]\n",
        "\n",
        "print('Our calculation: ', grads)\n",
        "\n",
        "grads_compare = qml.grad(circuit)(x)\n",
        "print('Comparison: ', grads_compare)"
      ],
      "metadata": {
        "colab": {
          "base_uri": "https://localhost:8080/"
        },
        "id": "aK-d6WrlXWno",
        "outputId": "852ba7cb-7420-44ec-82cd-76a5f028944c"
      },
      "execution_count": 13,
      "outputs": [
        {
          "output_type": "stream",
          "name": "stdout",
          "text": [
            "Our calculation:  [-0.018947989233612107, 0.9316157966884513, -0.05841749223216956]\n",
            "Comparison:  [-0.01894799  0.9316158  -0.05841749]\n"
          ]
        }
      ]
    },
    {
      "cell_type": "code",
      "source": [
        "dev_lightning = qml.device('lightning.qubit', wires=2)\n",
        "\n",
        "@qml.qnode(dev_lightning, diff_method='adjoint')\n",
        "def circuit_adjoint(a):\n",
        "  qml.RX(a[0], wires=0)\n",
        "  qml.CNOT(wires=(0, 1))\n",
        "  qml.RY(a[1], wires=1)\n",
        "  qml.RZ(a[2], wires=1)\n",
        "  return qml.expval(M)\n",
        "\n",
        "qml.grad(circuit_adjoint)(x)"
      ],
      "metadata": {
        "colab": {
          "base_uri": "https://localhost:8080/"
        },
        "id": "i96-dYe3ZEP0",
        "outputId": "4e2eecd7-7b34-4fdc-9ec0-accfebd76ba7"
      },
      "execution_count": 15,
      "outputs": [
        {
          "output_type": "execute_result",
          "data": {
            "text/plain": [
              "array([-0.01894799,  0.9316158 , -0.05841749])"
            ]
          },
          "metadata": {},
          "execution_count": 15
        }
      ]
    },
    {
      "cell_type": "code",
      "source": [
        ""
      ],
      "metadata": {
        "id": "yfPhDk3SaXeg"
      },
      "execution_count": null,
      "outputs": []
    }
  ]
}