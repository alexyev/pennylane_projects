{
  "nbformat": 4,
  "nbformat_minor": 0,
  "metadata": {
    "colab": {
      "name": "Quantum_Gradients_w_Backpropagation.ipynb",
      "provenance": [],
      "authorship_tag": "ABX9TyNBKKEz0MwH++YZL1sDJr6G",
      "include_colab_link": true
    },
    "kernelspec": {
      "name": "python3",
      "display_name": "Python 3"
    },
    "language_info": {
      "name": "python"
    }
  },
  "cells": [
    {
      "cell_type": "markdown",
      "metadata": {
        "id": "view-in-github",
        "colab_type": "text"
      },
      "source": [
        "<a href=\"https://colab.research.google.com/github/alexyev/pennylane_projects/blob/master/Quantum_Gradients_w_Backpropagation.ipynb\" target=\"_parent\"><img src=\"https://colab.research.google.com/assets/colab-badge.svg\" alt=\"Open In Colab\"/></a>"
      ]
    },
    {
      "cell_type": "code",
      "execution_count": null,
      "metadata": {
        "id": "iu74zM7kn6CD"
      },
      "outputs": [],
      "source": [
        "!pip install pennylane\n",
        "import pennylane as qml\n",
        "from pennylane import numpy as np\n",
        "from matplotlib import pyplot as plt"
      ]
    },
    {
      "cell_type": "code",
      "source": [
        "np.random.seed(42)\n",
        "\n",
        "dev = qml.device('default.qubit', wires=3)\n",
        "\n",
        "@qml.qnode(dev, diff_method='parameter-shift')\n",
        "def circuit(params):\n",
        "  qml.RX(params[0], wires=0)\n",
        "  qml.RY(params[1], wires=1)\n",
        "  qml.RZ(params[2], wires=2)\n",
        "\n",
        "  qml.broadcast(qml.CNOT, wires=[0, 1, 2], pattern='ring')\n",
        "\n",
        "  qml.RX(params[3], wires=0)\n",
        "  qml.RY(params[4], wires=1)\n",
        "  qml.RZ(params[5], wires=2)\n",
        "\n",
        "  qml.broadcast(qml.CNOT, wires=[0, 1, 2], pattern='ring')\n",
        "  return qml.expval(qml.PauliY(0) @ qml.PauliZ(2))\n"
      ],
      "metadata": {
        "id": "UyBm6q3euFBv"
      },
      "execution_count": 5,
      "outputs": []
    },
    {
      "cell_type": "code",
      "source": [
        "params = np.random.random([6], requires_grad=True)\n",
        "print('Parameters:', params)\n",
        "print('Expectation Value: ', circuit(params))"
      ],
      "metadata": {
        "colab": {
          "base_uri": "https://localhost:8080/"
        },
        "id": "YWNtntlfw-U-",
        "outputId": "f9ad720e-89ed-4ac9-bf43-13334c68ed05"
      },
      "execution_count": 6,
      "outputs": [
        {
          "output_type": "stream",
          "name": "stdout",
          "text": [
            "Parameters: [0.37454012 0.95071431 0.73199394 0.59865848 0.15601864 0.15599452]\n",
            "Expectation Value:  -0.11971365706871569\n"
          ]
        }
      ]
    },
    {
      "cell_type": "code",
      "source": [
        "fig, ax = qml.draw_mpl(circuit, decimals=2)(params)\n",
        "plt.show()"
      ],
      "metadata": {
        "colab": {
          "base_uri": "https://localhost:8080/",
          "height": 319
        },
        "id": "v1fT6E6OKZNz",
        "outputId": "bb3f5177-525d-4cf8-8a73-4cb8c2c713d3"
      },
      "execution_count": 7,
      "outputs": [
        {
          "output_type": "display_data",
          "data": {
            "image/png": "[encoded data removed]",
            "text/plain": [
              "<Figure size 792x288 with 1 Axes>"
            ]
          },
          "metadata": {}
        }
      ]
    },
    {
      "cell_type": "code",
      "source": [
        "def parameter_shift_term(qnode, params, i):\n",
        "  shifted = params.copy()\n",
        "  shifted[i] += np.pi/2\n",
        "  forward = qnode(shifted)\n",
        "\n",
        "  shifted[i] -= np.pi\n",
        "  backward = qnode(shifted)\n",
        "\n",
        "  return 0.5 * (forward - backward)\n",
        "\n",
        "print(parameter_shift_term(circuit, params, 0))"
      ],
      "metadata": {
        "colab": {
          "base_uri": "https://localhost:8080/"
        },
        "id": "_wFMHaP6OC12",
        "outputId": "7eb10c54-fcf7-4715-b7fb-d461150e7238"
      },
      "execution_count": 14,
      "outputs": [
        {
          "output_type": "stream",
          "name": "stdout",
          "text": [
            "-0.0651887722495813\n"
          ]
        }
      ]
    },
    {
      "cell_type": "code",
      "source": [
        "def parameter_shift(qnode, params):\n",
        "  gradients = np.zeros([len(params)])\n",
        "\n",
        "  for i in range(len(params)):\n",
        "    gradients[i] = parameter_shift_term(qnode, params, i)\n",
        "\n",
        "  return gradients\n",
        "\n",
        "print(parameter_shift(circuit, params))\n"
      ],
      "metadata": {
        "colab": {
          "base_uri": "https://localhost:8080/"
        },
        "id": "tHsybSADPAip",
        "outputId": "b0f9e86e-62ce-4eef-fbca-5d9e65524eaa"
      },
      "execution_count": 17,
      "outputs": [
        {
          "output_type": "stream",
          "name": "stdout",
          "text": [
            "[-6.51887722e-02 -2.72891905e-02  0.00000000e+00 -9.33934621e-02\n",
            " -7.61067572e-01  8.32667268e-17]\n"
          ]
        }
      ]
    },
    {
      "cell_type": "code",
      "source": [
        "grad_function = qml.grad(circuit)\n",
        "print(grad_function(params)[0])"
      ],
      "metadata": {
        "colab": {
          "base_uri": "https://localhost:8080/"
        },
        "id": "tv5AsMPlX67g",
        "outputId": "11b81b17-0dc3-49e3-8538-fbb993da87b6"
      },
      "execution_count": 18,
      "outputs": [
        {
          "output_type": "stream",
          "name": "stdout",
          "text": [
            "-0.0651887722495813\n"
          ]
        }
      ]
    },
    {
      "cell_type": "code",
      "source": [
        "print(qml.gradients.param_shift(circuit)(params))"
      ],
      "metadata": {
        "colab": {
          "base_uri": "https://localhost:8080/"
        },
        "id": "kSBerfwCY6mY",
        "outputId": "dc5fec3a-0d43-4c11-8365-456ffe7b8f33"
      },
      "execution_count": 19,
      "outputs": [
        {
          "output_type": "stream",
          "name": "stdout",
          "text": [
            "[[-6.51887722e-02 -2.72891905e-02  0.00000000e+00 -9.33934621e-02\n",
            "  -7.61067572e-01  8.32667268e-17]]\n"
          ]
        }
      ]
    },
    {
      "cell_type": "code",
      "source": [
        "dev = qml.device('default.qubit', wires=4)\n",
        "\n",
        "@qml.qnode(dev, diff_method='parameter-shift')\n",
        "def circuit(params):\n",
        "  qml.StronglyEntanglingLayers(params, wires=[0, 1, 2, 3])\n",
        "  return qml.expval(qml.PauliZ(0) @ qml.PauliZ(1) @ qml.PauliZ(2) @ qml.PauliZ(3))"
      ],
      "metadata": {
        "id": "ERPiB21LZHaZ"
      },
      "execution_count": 20,
      "outputs": []
    },
    {
      "cell_type": "code",
      "source": [
        "param_shape = qml.StronglyEntanglingLayers.shape(n_wires=4, n_layers=15)\n",
        "params = np.random.normal(scale=0.1, size=param_shape, requires_grad=True)\n",
        "print(params.size)\n",
        "print(circuit(params))"
      ],
      "metadata": {
        "colab": {
          "base_uri": "https://localhost:8080/"
        },
        "id": "bfOtGU_jaGa6",
        "outputId": "6ef3ec60-acde-4187-f80e-ea83d4f2b0ca"
      },
      "execution_count": 21,
      "outputs": [
        {
          "output_type": "stream",
          "name": "stdout",
          "text": [
            "180\n",
            "0.8947771876917632\n"
          ]
        }
      ]
    },
    {
      "cell_type": "code",
      "source": [
        "import timeit\n",
        "\n",
        "reps = 3\n",
        "num = 10\n",
        "times = timeit.repeat('circuit(params)', globals=globals(), number=num, repeat=reps)\n",
        "forward_time = min(times) / num\n",
        "\n",
        "print(f\"Forward pass (best out of {reps}): {forward_time} sec per loop\")"
      ],
      "metadata": {
        "colab": {
          "base_uri": "https://localhost:8080/"
        },
        "id": "TSmrcnRzah7m",
        "outputId": "eee6481e-da9c-4dae-91dd-129f439691e0"
      },
      "execution_count": 23,
      "outputs": [
        {
          "output_type": "stream",
          "name": "stdout",
          "text": [
            "Forward pass (best out of 3): 0.02410548329989979 sec per loop\n"
          ]
        }
      ]
    },
    {
      "cell_type": "code",
      "source": [
        "grad_fn = qml.grad(circuit)\n",
        "\n",
        "times = timeit.repeat('grad_fn(params)', globals=globals(), number=num, repeat=reps)\n",
        "backward_time = min(times) / num\n",
        "\n",
        "print(f'Gradient computation (best of {reps}: {backward_time} sec per loop)')"
      ],
      "metadata": {
        "colab": {
          "base_uri": "https://localhost:8080/"
        },
        "id": "dCdlcnowbiFZ",
        "outputId": "1adfd778-87b8-4b8d-f9fc-3305ce058998"
      },
      "execution_count": 25,
      "outputs": [
        {
          "output_type": "stream",
          "name": "stdout",
          "text": [
            "Gradient computation (best of 3: 6.955476114399971 sec per loop)\n"
          ]
        }
      ]
    },
    {
      "cell_type": "code",
      "source": [
        "print(2 * forward_time * params.size)"
      ],
      "metadata": {
        "colab": {
          "base_uri": "https://localhost:8080/"
        },
        "id": "MziNL-v3cd_C",
        "outputId": "05a4eba8-04b1-41c8-c557-38557e814f76"
      },
      "execution_count": 26,
      "outputs": [
        {
          "output_type": "stream",
          "name": "stdout",
          "text": [
            "8.677973987963924\n"
          ]
        }
      ]
    },
    {
      "cell_type": "code",
      "source": [
        ""
      ],
      "metadata": {
        "id": "dDrN3QkyeG7P"
      },
      "execution_count": null,
      "outputs": []
    }
  ]
}