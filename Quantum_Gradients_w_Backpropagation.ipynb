{
  "nbformat": 4,
  "nbformat_minor": 0,
  "metadata": {
    "colab": {
      "name": "Quantum_Gradients_w_Backpropagation.ipynb",
      "provenance": [],
      "authorship_tag": "ABX9TyPQjnOgd4yr1NB9r6Xd99Tc",
      "include_colab_link": true
    },
    "kernelspec": {
      "name": "python3",
      "display_name": "Python 3"
    },
    "language_info": {
      "name": "python"
    }
  },
  "cells": [
    {
      "cell_type": "markdown",
      "metadata": {
        "id": "view-in-github",
        "colab_type": "text"
      },
      "source": [
        "<a href=\"https://colab.research.google.com/github/alexyev/pennylane_projects/blob/master/Quantum_Gradients_w_Backpropagation.ipynb\" target=\"_parent\"><img src=\"https://colab.research.google.com/assets/colab-badge.svg\" alt=\"Open In Colab\"/></a>"
      ]
    },
    {
      "cell_type": "code",
      "execution_count": 1,
      "metadata": {
        "id": "iu74zM7kn6CD",
        "colab": {
          "base_uri": "https://localhost:8080/"
        },
        "outputId": "99b81621-354d-431a-9db7-7117cd8c415c"
      },
      "outputs": [
        {
          "output_type": "stream",
          "name": "stdout",
          "text": [
            "Collecting pennylane\n",
            "  Downloading PennyLane-0.20.0-py3-none-any.whl (756 kB)\n",
            "\u001b[K     |████████████████████████████████| 756 kB 5.1 MB/s \n",
            "\u001b[?25hRequirement already satisfied: autograd in /usr/local/lib/python3.7/dist-packages (from pennylane) (1.3)\n",
            "Requirement already satisfied: scipy in /usr/local/lib/python3.7/dist-packages (from pennylane) (1.4.1)\n",
            "Requirement already satisfied: cachetools in /usr/local/lib/python3.7/dist-packages (from pennylane) (4.2.4)\n",
            "Collecting pennylane-lightning>=0.18\n",
            "  Downloading PennyLane_Lightning-0.20.1-cp37-cp37m-manylinux2014_x86_64.whl (305 kB)\n",
            "\u001b[K     |████████████████████████████████| 305 kB 20.1 MB/s \n",
            "\u001b[?25hRequirement already satisfied: toml in /usr/local/lib/python3.7/dist-packages (from pennylane) (0.10.2)\n",
            "Requirement already satisfied: numpy in /usr/local/lib/python3.7/dist-packages (from pennylane) (1.19.5)\n",
            "Requirement already satisfied: appdirs in /usr/local/lib/python3.7/dist-packages (from pennylane) (1.4.4)\n",
            "Collecting autoray\n",
            "  Downloading autoray-0.2.5-py3-none-any.whl (16 kB)\n",
            "Collecting semantic-version==2.6\n",
            "  Downloading semantic_version-2.6.0-py3-none-any.whl (14 kB)\n",
            "Requirement already satisfied: networkx in /usr/local/lib/python3.7/dist-packages (from pennylane) (2.6.3)\n",
            "Collecting ninja\n",
            "  Downloading ninja-1.10.2.3-py2.py3-none-manylinux_2_5_x86_64.manylinux1_x86_64.whl (108 kB)\n",
            "\u001b[K     |████████████████████████████████| 108 kB 6.4 MB/s \n",
            "\u001b[?25hRequirement already satisfied: future>=0.15.2 in /usr/local/lib/python3.7/dist-packages (from autograd->pennylane) (0.16.0)\n",
            "Installing collected packages: ninja, semantic-version, pennylane-lightning, autoray, pennylane\n",
            "Successfully installed autoray-0.2.5 ninja-1.10.2.3 pennylane-0.20.0 pennylane-lightning-0.20.1 semantic-version-2.6.0\n"
          ]
        }
      ],
      "source": [
        "!pip install pennylane\n",
        "import pennylane as qml\n",
        "from pennylane import numpy as np\n",
        "from matplotlib import pyplot as plt"
      ]
    },
    {
      "cell_type": "code",
      "source": [
        "np.random.seed(42)\n",
        "\n",
        "dev = qml.device('default.qubit', wires=3)\n",
        "\n",
        "@qml.qnode(dev, diff_method='parameter-shift')\n",
        "def circuit(params):\n",
        "  qml.RX(params[0], wires=0)\n",
        "  qml.RY(params[1], wires=1)\n",
        "  qml.RZ(params[2], wires=2)\n",
        "\n",
        "  qml.broadcast(qml.CNOT, wires=[0, 1, 2], pattern='ring')\n",
        "\n",
        "  qml.RX(params[3], wires=0)\n",
        "  qml.RY(params[4], wires=1)\n",
        "  qml.RZ(params[5], wires=2)\n",
        "\n",
        "  qml.broadcast(qml.CNOT, wires=[0, 1, 2], pattern='ring')\n",
        "  return qml.expval(qml.PauliY(0) @ qml.PauliZ(2))\n"
      ],
      "metadata": {
        "id": "UyBm6q3euFBv"
      },
      "execution_count": 2,
      "outputs": []
    },
    {
      "cell_type": "code",
      "source": [
        "params = np.random.random([6], requires_grad=True)\n",
        "print('Parameters:', params)\n",
        "print('Expectation Value: ', circuit(params))"
      ],
      "metadata": {
        "colab": {
          "base_uri": "https://localhost:8080/"
        },
        "id": "YWNtntlfw-U-",
        "outputId": "c6b76794-1341-440e-fe6a-2874271d83bf"
      },
      "execution_count": 3,
      "outputs": [
        {
          "output_type": "stream",
          "name": "stdout",
          "text": [
            "Parameters: [0.37454012 0.95071431 0.73199394 0.59865848 0.15601864 0.15599452]\n",
            "Expectation Value:  -0.11971365706871569\n"
          ]
        }
      ]
    },
    {
      "cell_type": "code",
      "source": [
        "fig, ax = qml.draw_mpl(circuit, decimals=2)(params)\n",
        "plt.show()"
      ],
      "metadata": {
        "colab": {
          "base_uri": "https://localhost:8080/",
          "height": 319
        },
        "id": "v1fT6E6OKZNz",
        "outputId": "dc84fe2b-88d8-4f60-81d2-0cf2012dd513"
      },
      "execution_count": 4,
      "outputs": [
        {
          "output_type": "display_data",
          "data": {
            "image/png": "[encoded data removed]",
            "text/plain": [
              "<Figure size 792x288 with 1 Axes>"
            ]
          },
          "metadata": {}
        }
      ]
    },
    {
      "cell_type": "code",
      "source": [
        "def parameter_shift_term(qnode, params, i):\n",
        "  shifted = params.copy()\n",
        "  shifted[i] += np.pi/2\n",
        "  forward = qnode(shifted)\n",
        "\n",
        "  shifted[i] -= np.pi\n",
        "  backward = qnode(shifted)\n",
        "\n",
        "  return 0.5 * (forward - backward)\n",
        "\n",
        "print(parameter_shift_term(circuit, params, 0))"
      ],
      "metadata": {
        "colab": {
          "base_uri": "https://localhost:8080/"
        },
        "id": "_wFMHaP6OC12",
        "outputId": "c7f64d50-2dfd-4738-9db6-12bcb82f4dd5"
      },
      "execution_count": 5,
      "outputs": [
        {
          "output_type": "stream",
          "name": "stdout",
          "text": [
            "-0.0651887722495813\n"
          ]
        }
      ]
    },
    {
      "cell_type": "code",
      "source": [
        "def parameter_shift(qnode, params):\n",
        "  gradients = np.zeros([len(params)])\n",
        "\n",
        "  for i in range(len(params)):\n",
        "    gradients[i] = parameter_shift_term(qnode, params, i)\n",
        "\n",
        "  return gradients\n",
        "\n",
        "print(parameter_shift(circuit, params))\n"
      ],
      "metadata": {
        "colab": {
          "base_uri": "https://localhost:8080/"
        },
        "id": "tHsybSADPAip",
        "outputId": "fdb3a750-833a-4ad0-d850-e3344affd17f"
      },
      "execution_count": 6,
      "outputs": [
        {
          "output_type": "stream",
          "name": "stdout",
          "text": [
            "[-6.51887722e-02 -2.72891905e-02  0.00000000e+00 -9.33934621e-02\n",
            " -7.61067572e-01  8.32667268e-17]\n"
          ]
        }
      ]
    },
    {
      "cell_type": "code",
      "source": [
        "grad_function = qml.grad(circuit)\n",
        "print(grad_function(params)[0])"
      ],
      "metadata": {
        "colab": {
          "base_uri": "https://localhost:8080/"
        },
        "id": "tv5AsMPlX67g",
        "outputId": "95fadf8b-a019-483c-de0f-f40746da1b70"
      },
      "execution_count": 7,
      "outputs": [
        {
          "output_type": "stream",
          "name": "stdout",
          "text": [
            "-0.0651887722495813\n"
          ]
        }
      ]
    },
    {
      "cell_type": "code",
      "source": [
        "print(qml.gradients.param_shift(circuit)(params))"
      ],
      "metadata": {
        "colab": {
          "base_uri": "https://localhost:8080/"
        },
        "id": "kSBerfwCY6mY",
        "outputId": "70cd52e8-b5c4-4f94-93fb-c5852f7592d1"
      },
      "execution_count": 8,
      "outputs": [
        {
          "output_type": "stream",
          "name": "stdout",
          "text": [
            "[[-6.51887722e-02 -2.72891905e-02  0.00000000e+00 -9.33934621e-02\n",
            "  -7.61067572e-01  8.32667268e-17]]\n"
          ]
        }
      ]
    },
    {
      "cell_type": "code",
      "source": [
        "dev = qml.device('default.qubit', wires=4)\n",
        "\n",
        "@qml.qnode(dev, diff_method='parameter-shift')\n",
        "def circuit(params):\n",
        "  qml.StronglyEntanglingLayers(params, wires=[0, 1, 2, 3])\n",
        "  return qml.expval(qml.PauliZ(0) @ qml.PauliZ(1) @ qml.PauliZ(2) @ qml.PauliZ(3))"
      ],
      "metadata": {
        "id": "ERPiB21LZHaZ"
      },
      "execution_count": 9,
      "outputs": []
    },
    {
      "cell_type": "code",
      "source": [
        "param_shape = qml.StronglyEntanglingLayers.shape(n_wires=4, n_layers=15)\n",
        "params = np.random.normal(scale=0.1, size=param_shape, requires_grad=True)\n",
        "print(params.size)\n",
        "print(circuit(params))"
      ],
      "metadata": {
        "colab": {
          "base_uri": "https://localhost:8080/"
        },
        "id": "bfOtGU_jaGa6",
        "outputId": "e72f309e-d21f-4177-9d54-f7dca28acd02"
      },
      "execution_count": 10,
      "outputs": [
        {
          "output_type": "stream",
          "name": "stdout",
          "text": [
            "180\n",
            "0.8947771876917632\n"
          ]
        }
      ]
    },
    {
      "cell_type": "code",
      "source": [
        "import timeit\n",
        "\n",
        "reps = 3\n",
        "num = 10\n",
        "times = timeit.repeat('circuit(params)', globals=globals(), number=num, repeat=reps)\n",
        "forward_time = min(times) / num\n",
        "\n",
        "print(f\"Forward pass (best out of {reps}): {forward_time} sec per loop\")"
      ],
      "metadata": {
        "colab": {
          "base_uri": "https://localhost:8080/"
        },
        "id": "TSmrcnRzah7m",
        "outputId": "60ce580f-5427-41df-d558-cbe58ce8441e"
      },
      "execution_count": 11,
      "outputs": [
        {
          "output_type": "stream",
          "name": "stdout",
          "text": [
            "Forward pass (best out of 3): 0.026181478799998104 sec per loop\n"
          ]
        }
      ]
    },
    {
      "cell_type": "code",
      "source": [
        "grad_fn = qml.grad(circuit)\n",
        "\n",
        "times = timeit.repeat('grad_fn(params)', globals=globals(), number=num, repeat=reps)\n",
        "backward_time = min(times) / num\n",
        "\n",
        "print(f'Gradient computation (best of {reps}: {backward_time} sec per loop)')"
      ],
      "metadata": {
        "colab": {
          "base_uri": "https://localhost:8080/"
        },
        "id": "dCdlcnowbiFZ",
        "outputId": "9482662d-af51-4d2d-f7f6-5d53c1c6b75c"
      },
      "execution_count": 12,
      "outputs": [
        {
          "output_type": "stream",
          "name": "stdout",
          "text": [
            "Gradient computation (best of 3: 10.052072224799996 sec per loop)\n"
          ]
        }
      ]
    },
    {
      "cell_type": "code",
      "source": [
        "print(2 * forward_time * params.size)"
      ],
      "metadata": {
        "colab": {
          "base_uri": "https://localhost:8080/"
        },
        "id": "MziNL-v3cd_C",
        "outputId": "b5be1134-0b4b-4894-d827-241465cc288d"
      },
      "execution_count": 13,
      "outputs": [
        {
          "output_type": "stream",
          "name": "stdout",
          "text": [
            "9.425332367999317\n"
          ]
        }
      ]
    },
    {
      "cell_type": "code",
      "source": [
        "# now the fun with backprop begins\n",
        "\n",
        "dev = qml.device('default.qubit', wires=4)\n",
        "@qml.qnode(dev, diff_method='backprop')\n",
        "def circuit(params):\n",
        "  qml.StronglyEntanglingLayers(params, wires=[0, 1, 2, 3])\n",
        "  return qml.expval(qml.PauliZ(0) @ qml.PauliZ(1) @ qml.PauliZ(2) @qml.PauliZ(3))\n",
        "\n",
        "param_shape = qml.StronglyEntanglingLayers.shape(n_wires=4, n_layers=15)\n",
        "params = np.random.normal(scale=0.1, size=param_shape, requires_grad=True)\n",
        "print(circuit(params))"
      ],
      "metadata": {
        "id": "dDrN3QkyeG7P",
        "colab": {
          "base_uri": "https://localhost:8080/"
        },
        "outputId": "c858de94-dfae-48ee-9cc3-20c985ea9953"
      },
      "execution_count": 14,
      "outputs": [
        {
          "output_type": "stream",
          "name": "stdout",
          "text": [
            "0.9358535378025427\n"
          ]
        }
      ]
    },
    {
      "cell_type": "code",
      "source": [
        "reps = 3\n",
        "num = 10\n",
        "times = timeit.repeat('circuit(params)', globals=globals(), number=num, repeat=reps)\n",
        "forward_time = min(times) / num\n",
        "print(f'Forward pass (best of {reps}): {forward_time} sec per loop')"
      ],
      "metadata": {
        "colab": {
          "base_uri": "https://localhost:8080/"
        },
        "id": "bTgdVQYRLpM4",
        "outputId": "85c2c2d4-30d6-450c-aa2a-5cd439ac1394"
      },
      "execution_count": 15,
      "outputs": [
        {
          "output_type": "stream",
          "name": "stdout",
          "text": [
            "Forward pass (best of 3): 0.07281304959999488 sec per loop\n"
          ]
        }
      ]
    },
    {
      "cell_type": "code",
      "source": [
        "times = timeit.repeat('qml.grad(circuit(params))', globals=globals(), number=num, repeat=reps)\n",
        "backward_time = min(times)/num\n",
        "print(f'Backward time (best of {reps}): {backward_time} sec per loop')"
      ],
      "metadata": {
        "colab": {
          "base_uri": "https://localhost:8080/"
        },
        "id": "4TD2J18-OMq_",
        "outputId": "06e51653-1119-4e76-b8da-5c4b460169e2"
      },
      "execution_count": 16,
      "outputs": [
        {
          "output_type": "stream",
          "name": "stdout",
          "text": [
            "Backward time (best of 3): 0.07131233459999749 sec per loop\n"
          ]
        }
      ]
    },
    {
      "cell_type": "code",
      "source": [
        "# time comparison between parameter-shift and backprop as number of layers increases\n",
        "\n",
        "dev = qml.device('default.qubit', wires=4)\n",
        "\n",
        "def circuit(params):\n",
        "  qml.StronglyEntanglingLayers(params, wires=[0, 1, 2, 3])\n",
        "  return qml.expval(qml.PauliZ(0) @ qml.PauliZ(1) @ qml.PauliZ(2) @ qml.PauliZ(3))"
      ],
      "metadata": {
        "id": "8OCnexMzSFUT"
      },
      "execution_count": 21,
      "outputs": []
    },
    {
      "cell_type": "code",
      "source": [
        "reps = 2 \n",
        "num = 3\n",
        "\n",
        "forward_shift_init = []\n",
        "gradient_shift_init = []\n",
        "forward_backprop_init = []\n",
        "gradient_backprop_init = []\n",
        "\n",
        "for depth in range(0, 21):\n",
        "  param_shape = qml.StronglyEntanglingLayers.shape(n_wires=4, n_layers=depth)\n",
        "  params = np.random.normal(scale=0.1, size=param_shape, requires_grad=True)\n",
        "  num_params = params.size\n",
        "\n",
        "# time the forward pass\n",
        "\n",
        "  qnode_shift = qml.QNode(circuit, dev, diff_method = 'parameter-shift')\n",
        "  qnode_backprop = qml.QNode(circuit, dev, diff_method = 'backprop')\n",
        "\n",
        "  # time the parameter shift\n",
        "\n",
        "  t = timeit.repeat('qnode_shift(params)', globals=globals(), number=num, repeat=reps)\n",
        "  forward_shift_init.append([num_params, min(t)/ num])\n",
        "\n",
        "  # backprop\n",
        "\n",
        "  t = timeit.repeat('qnode_backprop(params)', globals=globals(), number=num, repeat=reps)\n",
        "  forward_backprop_init.append([num_params, min(t) / num])\n",
        "\n",
        "  if num_params == 0:\n",
        "    continue\n",
        "\n",
        "  # gradient timing\n",
        "\n",
        "  qnode_shift = qml.QNode(circuit, dev, diff_method='parameter-shift')\n",
        "  qnode_backprop = qml.QNode(circuit, dev, diff_method='backprop')\n",
        "\n",
        "  # parameter shift\n",
        "\n",
        "  t = timeit.repeat('qml.grad(qnode_shift)(params)', globals=globals(), number=num, repeat=reps)\n",
        "  gradient_shift_init.append([num_params, min(t) / num])\n",
        "\n",
        "  # backprop\n",
        "\n",
        "  t = timeit.repeat('qml.grad(qnode_backprop)(params)', globals=globals(), number=num, repeat=reps)\n",
        "  gradient_backprop_init.append([num_params, min(t) / num])\n",
        "\n"
      ],
      "metadata": {
        "id": "yZDvAtZyS_Ys"
      },
      "execution_count": 39,
      "outputs": []
    },
    {
      "cell_type": "code",
      "source": [
        "  gradient_shift_init = np.array(gradient_shift_init).T\n",
        "  gradient_backprop_init = np.array(gradient_backprop_init).T\n",
        "  forward_shift_init = np.array(forward_shift_init).T\n",
        "  forward_backprop_init = np.array(forward_backprop_init).T"
      ],
      "metadata": {
        "id": "jfUFjstRDmTT"
      },
      "execution_count": 40,
      "outputs": []
    },
    {
      "cell_type": "code",
      "source": [
        "plt.style.use('bmh')\n",
        "\n",
        "fig, ax = plt.subplots(1,1, figsize=(6, 4))\n",
        "\n",
        "ax.plot(*gradient_shift_init, '.-', label='Parameter Shift')\n",
        "ax.plot(*gradient_backprop_init, '.-', label='Backpropagation')\n",
        "ax.set_ylabel('TIme (s)')\n",
        "ax.set_xlabel('Number of Parameters')\n",
        "ax.legend()\n",
        "\n",
        "plt.show()"
      ],
      "metadata": {
        "id": "HJdotZxVZ-X3",
        "colab": {
          "base_uri": "https://localhost:8080/",
          "height": 279
        },
        "outputId": "8d8be617-f383-4d62-b865-6167acad25c1"
      },
      "execution_count": 41,
      "outputs": [
        {
          "output_type": "display_data",
          "data": {
            "image/png": "[encoded data removed]",
            "text/plain": [
              "<Figure size 432x288 with 1 Axes>"
            ]
          },
          "metadata": {
            "needs_background": "light"
          }
        }
      ]
    }
  ]
}