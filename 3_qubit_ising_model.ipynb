{
 "cells": [
  {
   "cell_type": "code",
   "execution_count": 2,
   "id": "13bf236a-3274-49a3-9212-ad67b2ba034d",
   "metadata": {},
   "outputs": [],
   "source": [
    "import torch\n",
    "from torch.autograd import Variable\n",
    "import pennylane as qml\n",
    "from pennylane import numpy as np"
   ]
  },
  {
   "cell_type": "code",
   "execution_count": 5,
   "id": "5566f978-ccbf-4f6c-bb8a-fb1ad8ebe9c1",
   "metadata": {},
   "outputs": [],
   "source": [
    "dev = qml.device(\"default.qubit\", wires=3)\n",
    "\n",
    "@qml.qnode(dev, interface=\"torch\")\n",
    "def circuit(p1, p2):\n",
    "    # We use the general Rot(phi,theta,omega,wires) single-qubit operation\n",
    "    qml.Rot(p1[0], p1[1], p1[2], wires=1)\n",
    "    qml.Rot(p2[0], p2[1], p2[2], wires=2)\n",
    "    return [qml.expval(qml.PauliZ(i)) for i in range(3)]"
   ]
  },
  {
   "cell_type": "code",
   "execution_count": 6,
   "id": "5cddd7af-6b89-4606-9a39-a5952adee20f",
   "metadata": {},
   "outputs": [],
   "source": [
    "def cost(var1, var2):\n",
    "    spins = circuit(var1, var2)\n",
    "    energy = -(1 * spins[0] * spins[1]) - (-1 * spins[1] * spins[2])\n",
    "    return energy"
   ]
  },
  {
   "cell_type": "code",
   "execution_count": 7,
   "id": "4485d5df-1c4c-45db-a945-57a2c5732feb",
   "metadata": {},
   "outputs": [
    {
     "name": "stdout",
     "output_type": "stream",
     "text": [
      "Energy for [1, -1, -1] spin configuration: tensor(2.0000, dtype=torch.float64)\n"
     ]
    }
   ],
   "source": [
    "test1 = torch.tensor([0, np.pi, 0])\n",
    "test2 = torch.tensor([0, np.pi, 0])\n",
    "\n",
    "cost_check = cost(test1, test2)\n",
    "print(\"Energy for [1, -1, -1] spin configuration:\", cost_check)"
   ]
  },
  {
   "cell_type": "code",
   "execution_count": 8,
   "id": "021078d1-62e5-481b-8ec2-36e1401c621d",
   "metadata": {},
   "outputs": [
    {
     "name": "stdout",
     "output_type": "stream",
     "text": [
      "Randomly initialized angles:\n",
      "tensor([1.9632, 2.6022, 2.3277], dtype=torch.float64, requires_grad=True)\n",
      "tensor([0.6521, 2.8474, 2.4300], dtype=torch.float64, requires_grad=True)\n",
      "Corresponding cost before optimization:\n",
      "tensor(1.6792, dtype=torch.float64, grad_fn=<SubBackward0>)\n"
     ]
    }
   ],
   "source": [
    "torch.manual_seed(56)\n",
    "p1 = Variable((np.pi * torch.rand(3, dtype=torch.float64)), requires_grad=True)\n",
    "p2 = Variable((np.pi * torch.rand(3, dtype=torch.float64)), requires_grad=True)\n",
    "\n",
    "var_init = [p1, p2]\n",
    "cost_init = cost(p1, p2)\n",
    "\n",
    "print(\"Randomly initialized angles:\")\n",
    "print(p1)\n",
    "print(p2)\n",
    "print(\"Corresponding cost before optimization:\")\n",
    "print(cost_init)"
   ]
  },
  {
   "cell_type": "code",
   "execution_count": 9,
   "id": "0f9029a3-0ebd-41fd-8521-bbecd3570140",
   "metadata": {},
   "outputs": [
    {
     "name": "stdout",
     "output_type": "stream",
     "text": [
      "Energy after step     5:  0.6846474 | Angles: [array([1.96323939, 1.93604492, 2.32767565]), array([0.65212549, 2.73080219, 2.4299563 ])] \n",
      "\n",
      "Energy after step    10: -1.0138530 | Angles: [array([1.96323939, 1.0136468 , 2.32767565]), array([0.65212549, 2.73225282, 2.4299563 ])] \n",
      "\n",
      "Energy after step    15: -1.8171995 | Angles: [array([1.96323939, 0.38483073, 2.32767565]), array([0.65212549, 2.85992571, 2.4299563 ])] \n",
      "\n",
      "Energy after step    20: -1.9686584 | Angles: [array([1.96323939, 0.13026452, 2.32767565]), array([0.65212549, 2.97097572, 2.4299563 ])] \n",
      "\n",
      "Energy after step    25: -1.9930403 | Angles: [array([1.96323939, 0.04302756, 2.32767565]), array([0.65212549, 3.04042222, 2.4299563 ])] \n",
      "\n",
      "Energy after step    30: -1.9980133 | Angles: [array([1.96323939, 0.01413292, 2.32767565]), array([0.65212549, 3.08179844, 2.4299563 ])] \n",
      "\n",
      "Energy after step    35: -1.9993550 | Angles: [array([1.96323939, 0.00463472, 2.32767565]), array([0.65212549, 3.10627578, 2.4299563 ])] \n",
      "\n",
      "Energy after step    40: -1.9997802 | Angles: [array([1.96323939e+00, 1.51911413e-03, 2.32767565e+00]), array([0.65212549, 3.12073668, 2.4299563 ])] \n",
      "\n",
      "Energy after step    45: -1.9999239 | Angles: [array([1.96323939e+00, 4.97829828e-04, 2.32767565e+00]), array([0.65212549, 3.12927707, 2.4299563 ])] \n",
      "\n",
      "Energy after step    50: -1.9999735 | Angles: [array([1.96323939e+00, 1.63134183e-04, 2.32767565e+00]), array([0.65212549, 3.13432035, 2.4299563 ])] \n",
      "\n",
      "Energy after step    55: -1.9999908 | Angles: [array([1.96323939e+00, 5.34564150e-05, 2.32767565e+00]), array([0.65212549, 3.13729842, 2.4299563 ])] \n",
      "\n",
      "Energy after step    60: -1.9999968 | Angles: [array([1.96323939e+00, 1.75166673e-05, 2.32767565e+00]), array([0.65212549, 3.13905695, 2.4299563 ])] \n",
      "\n",
      "Energy after step    65: -1.9999989 | Angles: [array([1.96323939e+00, 5.73986944e-06, 2.32767565e+00]), array([0.65212549, 3.14009534, 2.4299563 ])] \n",
      "\n",
      "Energy after step    70: -1.9999996 | Angles: [array([1.96323939e+00, 1.88084132e-06, 2.32767565e+00]), array([0.65212549, 3.14070851, 2.4299563 ])] \n",
      "\n",
      "Energy after step    75: -1.9999999 | Angles: [array([1.96323939e+00, 6.16314188e-07, 2.32767565e+00]), array([0.65212549, 3.14107057, 2.4299563 ])] \n",
      "\n",
      "Energy after step    80: -2.0000000 | Angles: [array([1.96323939e+00, 2.01953845e-07, 2.32767565e+00]), array([0.65212549, 3.14128437, 2.4299563 ])] \n",
      "\n",
      "Energy after step    85: -2.0000000 | Angles: [array([1.96323939e+00, 6.61762372e-08, 2.32767565e+00]), array([0.65212549, 3.14141062, 2.4299563 ])] \n",
      "\n",
      "Energy after step    90: -2.0000000 | Angles: [array([1.96323939e+00, 2.16846296e-08, 2.32767565e+00]), array([0.65212549, 3.14148516, 2.4299563 ])] \n",
      "\n",
      "Energy after step    95: -2.0000000 | Angles: [array([1.96323939e+00, 7.10561943e-09, 2.32767565e+00]), array([0.65212549, 3.14152918, 2.4299563 ])] \n",
      "\n",
      "Energy after step   100: -2.0000000 | Angles: [array([1.96323939e+00, 2.32836938e-09, 2.32767565e+00]), array([0.65212549, 3.14155517, 2.4299563 ])] \n",
      "\n"
     ]
    }
   ],
   "source": [
    "opt = torch.optim.SGD(var_init, lr=0.1)\n",
    "\n",
    "def closure():\n",
    "    opt.zero_grad()\n",
    "    loss = cost(p1, p2)\n",
    "    loss.backward()\n",
    "    return loss\n",
    "\n",
    "var_pt = [var_init]\n",
    "cost_pt = [cost_init]\n",
    "x = [0]\n",
    "\n",
    "for i in range(100):\n",
    "    opt.step(closure)\n",
    "    if (i + 1) % 5 == 0:\n",
    "        x.append(i)\n",
    "        p1n, p2n = opt.param_groups[0][\"params\"]\n",
    "        costn = cost(p1n, p2n)\n",
    "        var_pt.append([p1n, p2n])\n",
    "        cost_pt.append(costn)\n",
    "\n",
    "        print(\"Energy after step {:5d}: {: .7f} | Angles: {}\".format(\n",
    "            i+1, costn, [p1n.detach().numpy(), p2n.detach().numpy()]),\"\\n\"\n",
    "        )\n"
   ]
  },
  {
   "cell_type": "code",
   "execution_count": 10,
   "id": "8b98a652-469f-47d5-9cdf-0e2bac0c5c4d",
   "metadata": {},
   "outputs": [
    {
     "name": "stdout",
     "output_type": "stream",
     "text": [
      "Optimized angles:\n",
      "tensor([1.9632e+00, 2.3284e-09, 2.3277e+00], dtype=torch.float64,\n",
      "       requires_grad=True)\n",
      "tensor([0.6521, 3.1416, 2.4300], dtype=torch.float64, requires_grad=True)\n",
      "Final cost after optimization:\n",
      "tensor(-2.0000, dtype=torch.float64, grad_fn=<SubBackward0>)\n"
     ]
    }
   ],
   "source": [
    "p1_final, p2_final = opt.param_groups[0][\"params\"]\n",
    "print(\"Optimized angles:\")\n",
    "print(p1_final)\n",
    "print(p2_final)\n",
    "print(\"Final cost after optimization:\")\n",
    "print(cost(p1_final, p2_final))"
   ]
  },
  {
   "cell_type": "code",
   "execution_count": null,
   "id": "f955c5f7-724c-4bc9-9ac6-7fbd281cd329",
   "metadata": {},
   "outputs": [],
   "source": [
    "import matplotlib\n",
    "import matplotlib.pyplot as plt\n",
    "    \n",
    "for cost in cost_pt:\n",
    "    cost.detach().numpy()\n",
    "\n",
    "fig = plt.figure(figsize=(6, 4))\n",
    "plt.plot(x, cost_pt, label = 'global minimum')\n",
    "plt.xlabel(\"Optimization steps\")\n",
    "plt.ylabel(\"Cost / Energy\")\n",
    "plt.legend()\n",
    "plt.show()"
   ]
  },
  {
   "cell_type": "code",
   "execution_count": 11,
   "id": "7d783b98-2a1d-4410-86e9-ce2e86b3626b",
   "metadata": {},
   "outputs": [
    {
     "name": "stdout",
     "output_type": "stream",
     "text": [
      "corresponding cost prior to optimization:\n",
      "tensor(0.0082, dtype=torch.float64, grad_fn=<SubBackward0>)\n"
     ]
    }
   ],
   "source": [
    "torch.manual_seed(9)\n",
    "p3 = Variable((np.pi*torch.rand(3, dtype = torch.float64)), requires_grad = True)\n",
    "p4 = Variable((np.pi*torch.rand(3, dtype = torch.float64)), requires_grad = True)\n",
    "\n",
    "var_init_loc = [p3, p4]\n",
    "cost_init_loc = cost(p3, p4)\n",
    "\n",
    "print('corresponding cost prior to optimization:')\n",
    "print(cost_init_loc)"
   ]
  },
  {
   "cell_type": "code",
   "execution_count": 12,
   "id": "0154743d-4c96-41ac-bd8b-1b20708d0c1a",
   "metadata": {},
   "outputs": [
    {
     "name": "stdout",
     "output_type": "stream",
     "text": [
      "Energy after step     5:  0.0032761 | Angles: [array([0.77369911, 2.63471297, 1.07981163]), array([0.26038622, 0.08659858, 1.91060734])] \n",
      "\n",
      "Energy after step    10:  0.0013137 | Angles: [array([0.77369911, 2.63406019, 1.07981163]), array([0.26038622, 0.05483683, 1.91060734])] \n",
      "\n",
      "Energy after step    15:  0.0005266 | Angles: [array([0.77369911, 2.63379816, 1.07981163]), array([0.26038622, 0.03471974, 1.91060734])] \n",
      "\n",
      "Energy after step    20:  0.0002111 | Angles: [array([0.77369911, 2.63369307, 1.07981163]), array([0.26038622, 0.02198151, 1.91060734])] \n",
      "\n",
      "Energy after step    25:  0.0000846 | Angles: [array([0.77369911, 2.63365094, 1.07981163]), array([0.26038622, 0.01391648, 1.91060734])] \n",
      "\n",
      "Energy after step    30:  0.0000339 | Angles: [array([0.77369911, 2.63363405, 1.07981163]), array([0.26038622, 0.00881044, 1.91060734])] \n",
      "\n",
      "Energy after step    35:  0.0000136 | Angles: [array([0.77369911, 2.63362729, 1.07981163]), array([0.26038622, 0.00557782, 1.91060734])] \n",
      "\n",
      "Energy after step    40:  0.0000054 | Angles: [array([0.77369911, 2.63362457, 1.07981163]), array([0.26038622, 0.00353126, 1.91060734])] \n",
      "\n",
      "Energy after step    45:  0.0000022 | Angles: [array([0.77369911, 2.63362348, 1.07981163]), array([0.26038622, 0.00223561, 1.91060734])] \n",
      "\n",
      "Energy after step    50:  0.0000009 | Angles: [array([0.77369911, 2.63362305, 1.07981163]), array([2.60386222e-01, 1.41534339e-03, 1.91060734e+00])] \n",
      "\n",
      "Energy after step    55:  0.0000004 | Angles: [array([0.77369911, 2.63362287, 1.07981163]), array([2.60386222e-01, 8.96040252e-04, 1.91060734e+00])] \n",
      "\n",
      "Energy after step    60:  0.0000001 | Angles: [array([0.77369911, 2.6336228 , 1.07981163]), array([2.60386222e-01, 5.67274421e-04, 1.91060734e+00])] \n",
      "\n",
      "Energy after step    65:  0.0000001 | Angles: [array([0.77369911, 2.63362278, 1.07981163]), array([2.60386222e-01, 3.59135947e-04, 1.91060734e+00])] \n",
      "\n",
      "Energy after step    70:  0.0000000 | Angles: [array([0.77369911, 2.63362276, 1.07981163]), array([2.60386222e-01, 2.27365491e-04, 1.91060734e+00])] \n",
      "\n",
      "Energy after step    75:  0.0000000 | Angles: [array([0.77369911, 2.63362276, 1.07981163]), array([2.60386222e-01, 1.43942891e-04, 1.91060734e+00])] \n",
      "\n",
      "Energy after step    80:  0.0000000 | Angles: [array([0.77369911, 2.63362276, 1.07981163]), array([2.60386222e-01, 9.11288509e-05, 1.91060734e+00])] \n",
      "\n",
      "Energy after step    85:  0.0000000 | Angles: [array([0.77369911, 2.63362276, 1.07981163]), array([2.60386222e-01, 5.76927932e-05, 1.91060734e+00])] \n",
      "\n",
      "Energy after step    90:  0.0000000 | Angles: [array([0.77369911, 2.63362276, 1.07981163]), array([2.60386222e-01, 3.65247488e-05, 1.91060734e+00])] \n",
      "\n",
      "Energy after step    95:  0.0000000 | Angles: [array([0.77369911, 2.63362276, 1.07981163]), array([2.60386222e-01, 2.31234648e-05, 1.91060734e+00])] \n",
      "\n",
      "Energy after step   100:  0.0000000 | Angles: [array([0.77369911, 2.63362276, 1.07981163]), array([2.60386222e-01, 1.46392417e-05, 1.91060734e+00])] \n",
      "\n"
     ]
    }
   ],
   "source": [
    "opt = torch.optim.SGD(var_init_loc, lr=0.1)\n",
    "\n",
    "def closure():\n",
    "    opt.zero_grad()\n",
    "    loss = cost(p3, p4)\n",
    "    loss.backward()\n",
    "    return loss\n",
    "\n",
    "var_pt_loc = [var_init_loc]\n",
    "cost_pt_loc = [cost_init_loc]\n",
    "\n",
    "for j in range(100):\n",
    "    opt.step(closure)\n",
    "    if (j + 1) % 5 == 0:\n",
    "        p3n, p4n = opt.param_groups[0]['params']\n",
    "        costn = cost(p3n, p4n)\n",
    "        var_pt_loc.append([p3n, p4n])\n",
    "        cost_pt_loc.append(costn)\n",
    "        \n",
    "        print('Energy after step {:5d}: {: .7f} | Angles: {}'.format(\n",
    "            j+1, costn, [p3n.detach().numpy(), p4n.detach().numpy()]),\"\\n\"\n",
    "        )"
   ]
  },
  {
   "cell_type": "code",
   "execution_count": null,
   "id": "f320874e-bc0a-4cb8-92ef-130c7becb9f3",
   "metadata": {},
   "outputs": [],
   "source": [
    "fig = plt.figure(figsize=(6, 4))\n",
    "plt.plot(x, cost_pt_loc, 'r', label = 'local minimum')\n",
    "plt.xlabel(\"Optimization steps\")\n",
    "plt.ylabel(\"Cost / Energy\")\n",
    "plt.legend()\n",
    "plt.show()"
   ]
  }
 ],
 "metadata": {
  "kernelspec": {
   "display_name": "Python 3",
   "language": "python",
   "name": "python3"
  },
  "language_info": {
   "codemirror_mode": {
    "name": "ipython",
    "version": 3
   },
   "file_extension": ".py",
   "mimetype": "text/x-python",
   "name": "python",
   "nbconvert_exporter": "python",
   "pygments_lexer": "ipython3",
   "version": "3.8.8"
  }
 },
 "nbformat": 4,
 "nbformat_minor": 5
}
